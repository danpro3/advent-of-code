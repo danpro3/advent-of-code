{
 "cells": [
  {
   "cell_type": "code",
   "execution_count": 175,
   "metadata": {},
   "outputs": [
    {
     "name": "stdout",
     "output_type": "stream",
     "text": [
      "total number of bricks = 1257\n",
      "highest z =  341\n",
      "After dropping bricks, highest z =  167\n",
      "total removable bricks = 391\n"
     ]
    }
   ],
   "source": [
    "# part 1\n",
    "import copy\n",
    "import re\n",
    "from heapq import heapify, heappush, heappop\n",
    "\n",
    "\n",
    "def build_all_cubes(bricks):\n",
    "    all_cubes = set([])\n",
    "    for B in bricks:\n",
    "        cubes = get_cubes(B)\n",
    "        for cube in cubes:\n",
    "            all_cubes.add(cube)\n",
    "    return all_cubes\n",
    "\n",
    "\n",
    "def get_cubes(B): # for 1 brick\n",
    "    cubes = set([])\n",
    "    x,y,z = B[1][0],B[1][1],B[1][2]\n",
    "    for k in range(3):\n",
    "        coordlist = list( range(min([B[1][k], B[2][k]]),max(B[1][k],B[2][k])+1) )\n",
    "        if k == 0:  # x\n",
    "            [cubes.add((x,y,z)) for x in coordlist]\n",
    "        if k == 1:  # y\n",
    "            [cubes.add((x,y,z)) for y in coordlist]\n",
    "        if k == 2:  # z\n",
    "            [cubes.add((x,y,z)) for z in coordlist]\n",
    "    return cubes\n",
    "\n",
    "\n",
    "def drop_bricks(bricks,all_cubes):\n",
    "    made_a_drop = False\n",
    "    for i in range(len(bricks)):\n",
    "        # B = heappop(bricks)\n",
    "        B = bricks[i]\n",
    "        cubes = get_cubes(B)\n",
    "        # print('i =',i,'B = ',B, 'cubes = ',cubes)\n",
    "        if B[1][2] != B[2][2]:  # vertical brick\n",
    "            cubes = set([])\n",
    "            cubes.add((B[1][0], B[1][1], min(B[1][2],B[2][2])))\n",
    "        still_clear = True\n",
    "        for k in range(len(cubes)):\n",
    "            cube = cubes.pop()\n",
    "            if B[1][2] == 1 or (cube[0], cube[1], cube[2]-1) in all_cubes:\n",
    "                still_clear = False\n",
    "        if still_clear:\n",
    "            B = (B[0]-1, (B[1][0],B[1][1],B[1][2]-1), (B[2][0],B[2][1],B[2][2]-1))\n",
    "            made_a_drop = True\n",
    "            # print('made a drop. B =',B)\n",
    "        # heappush(bricks,B)\n",
    "        bricks[i] = (min(B[1][2],B[2][2]), B[1], B[2])\n",
    "    return made_a_drop\n",
    "\n",
    "        \n",
    "# main\n",
    "lines = open(\"input_22.txt\").read().splitlines()\n",
    "# print(lines)\n",
    "bricks = []\n",
    "for line in lines:\n",
    "    L = re.split(',|~',line)\n",
    "    A = [int(x) for x in L[:3]]\n",
    "    B = [int(x) for x in L[3:]]\n",
    "    # bricks.append((min(A[2],B[2]),A,B))\n",
    "    heappush(bricks,(min(A[2],B[2]),A,B))\n",
    "heapify(bricks)\n",
    "bricks = sorted(bricks)\n",
    "\n",
    "B = bricks[-1]\n",
    "print('total number of bricks =',len(bricks))\n",
    "print('highest z = ',max(B[1][2],B[2][2]))\n",
    "# print(' ')\n",
    "# [print(bricks[i]) for i in range(len(bricks))]\n",
    "\n",
    "all_cubes = build_all_cubes(bricks)\n",
    "# [print(x) for x in all_cubes]\n",
    "\n",
    "made_a_drop = True\n",
    "while made_a_drop is True:\n",
    "    # print('dropping bricks')\n",
    "    made_a_drop = drop_bricks(bricks,all_cubes)\n",
    "    all_cubes = build_all_cubes(bricks)\n",
    "\n",
    "# print(all_cubes)\n",
    "# print(' ')\n",
    "# [print(bricks[i]) for i in range(len(bricks))]\n",
    "B = bricks[-1]\n",
    "print('After dropping bricks, highest z = ',max(B[1][2],B[2][2]))\n",
    "\n",
    "# see how many can be removed safely\n",
    "total_removable = 0\n",
    "bricks_orig = copy.deepcopy(bricks)\n",
    "for i in range(len(bricks_orig)):\n",
    "    bricks = copy.deepcopy(bricks_orig)\n",
    "    # heapify(bricks)\n",
    "    # bricks = sorted(bricks)\n",
    "    bricks.remove(bricks[i])\n",
    "    all_cubes = build_all_cubes(bricks)\n",
    "    made_a_drop = drop_bricks(bricks,all_cubes)\n",
    "    if made_a_drop == False:\n",
    "        total_removable += 1\n",
    "\n",
    "print('total removable bricks =',total_removable)\n"
   ]
  },
  {
   "cell_type": "code",
   "execution_count": null,
   "metadata": {},
   "outputs": [
    {
     "name": "stdout",
     "output_type": "stream",
     "text": [
      "1257\n",
      "1256\n"
     ]
    }
   ],
   "source": [
    "\n",
    "print(len(bricks))\n"
   ]
  }
 ],
 "metadata": {
  "kernelspec": {
   "display_name": ".venv",
   "language": "python",
   "name": "python3"
  },
  "language_info": {
   "codemirror_mode": {
    "name": "ipython",
    "version": 3
   },
   "file_extension": ".py",
   "mimetype": "text/x-python",
   "name": "python",
   "nbconvert_exporter": "python",
   "pygments_lexer": "ipython3",
   "version": "3.12.1"
  }
 },
 "nbformat": 4,
 "nbformat_minor": 2
}
