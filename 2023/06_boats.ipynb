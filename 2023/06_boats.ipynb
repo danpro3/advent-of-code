{
 "cells": [
  {
   "cell_type": "code",
   "execution_count": 62,
   "metadata": {},
   "outputs": [
    {
     "name": "stdout",
     "output_type": "stream",
     "text": [
      "['Time:', '44', '70', '70', '80', 'Distance:', '283', '1134', '1134', '1491']\n",
      "[44, 70, 70, 80]\n",
      "[283, 1134, 1134, 1491]\n",
      "margin = 219849\n"
     ]
    }
   ],
   "source": [
    "# Part 1\n",
    "with open(\"input_06.txt\", \"r\") as file:\n",
    "   filestr = file.read()\n",
    "filestr = filestr.split()\n",
    "print(filestr)\n",
    "num_races = len(filestr)//2-1\n",
    "times = [int(x) for x in filestr[1:num_races+1]]\n",
    "records = [int(x) for x in filestr[num_races+2:2*(num_races+1)]]\n",
    "\n",
    "print(times)\n",
    "print(records)\n",
    "\n",
    "total_margin = 1\n",
    "for i,time in enumerate(times):\n",
    "   \n",
    "    ways_to_win = 0\n",
    "    for t in range(time):\n",
    "        if t*(time-t) > records[i]:\n",
    "            ways_to_win += 1\n",
    "    total_margin *= ways_to_win\n",
    "\n",
    "print('margin =',total_margin)"
   ]
  },
  {
   "cell_type": "code",
   "execution_count": 65,
   "metadata": {},
   "outputs": [
    {
     "name": "stdout",
     "output_type": "stream",
     "text": [
      "['Time:', '44', '70', '70', '80', 'Distance:', '283', '1134', '1134', '1491']\n",
      "44707080\n",
      "283113411341491\n",
      "margin = 29432455\n"
     ]
    }
   ],
   "source": [
    "# Part 2\n",
    "with open(\"input_06.txt\", \"r\") as file:\n",
    "   filestr = file.read()\n",
    "filestr = filestr.split()\n",
    "print(filestr)\n",
    "num_races = len(filestr)//2-1\n",
    "time = int(''.join([x for x in filestr[1:num_races+1]]))\n",
    "record = int(''.join([x for x in filestr[num_races+2:2*(num_races+1)]]))\n",
    "\n",
    "print(time)\n",
    "print(record)\n",
    "total_margin = 1\n",
    "# for i in range(1): #i,time in enumerate(times):\n",
    "   \n",
    "ways_to_win = 0\n",
    "for t in range(time):\n",
    "    if t*(time-t) > record:\n",
    "        ways_to_win += 1\n",
    "total_margin *= ways_to_win\n",
    "\n",
    "print('margin =',total_margin)"
   ]
  }
 ],
 "metadata": {
  "kernelspec": {
   "display_name": "Python 3",
   "language": "python",
   "name": "python3"
  },
  "language_info": {
   "codemirror_mode": {
    "name": "ipython",
    "version": 3
   },
   "file_extension": ".py",
   "mimetype": "text/x-python",
   "name": "python",
   "nbconvert_exporter": "python",
   "pygments_lexer": "ipython3",
   "version": "3.10.13"
  }
 },
 "nbformat": 4,
 "nbformat_minor": 2
}
