{
 "cells": [
  {
   "cell_type": "code",
   "execution_count": 92,
   "metadata": {},
   "outputs": [
    {
     "name": "stdout",
     "output_type": "stream",
     "text": [
      "total distance =  374\n"
     ]
    }
   ],
   "source": [
    "# Part 1\n",
    "\n",
    "def expand_rows(data):\n",
    "    i = 0\n",
    "    while i < len(data):\n",
    "        if '#' not in data[i]:\n",
    "            # print('no # in line',i)\n",
    "            data.insert(i,data[i])\n",
    "            i += 1\n",
    "        i += 1\n",
    "    return data\n",
    "\n",
    "# main\n",
    "data = open(\"input_11_test.txt\").read().splitlines()\n",
    "# print(data)\n",
    "# [print(line) for line in data]\n",
    "\n",
    "data = expand_rows(data)\n",
    "\n",
    "# transpose and expand rows again\n",
    "data = [[row[i] for row in data] for i in range(len(data[0]))]\n",
    "data = expand_rows(data)\n",
    "data = [[row[i] for row in data] for i in range(len(data[0]))]\n",
    "\n",
    "# [print(line) for line in data]\n",
    "# print('size of data =',len(data),len(data[0]))\n",
    "\n",
    "# bring back to list of strings\n",
    "# data = [''.join(line) for line in data]\n",
    "# print(data)\n",
    "\n",
    "# find galaxies\n",
    "coords = []\n",
    "for a in range(len(data)):\n",
    "    found = [i for i, letter in enumerate(data[a]) if letter == '#']\n",
    "    # print(found)\n",
    "    if found:\n",
    "        [coords.append((a,b)) for b in found] if found else 0\n",
    "# print(coords)\n",
    "\n",
    "total_steps = 0\n",
    "for a in range(len(coords)):\n",
    "    for b in range(a+1,len(coords)):\n",
    "        steps = abs(coords[b][0] - coords[a][0]) + abs(coords[b][1] - coords[a][1])\n",
    "        # print('steps =',steps)\n",
    "        total_steps += steps\n",
    "    # print(' ')\n",
    "\n",
    "print('total distance = ',total_steps)\n"
   ]
  },
  {
   "cell_type": "code",
   "execution_count": 105,
   "metadata": {},
   "outputs": [
    {
     "name": "stdout",
     "output_type": "stream",
     "text": [
      "blank rows = [6, 65, 68, 73, 74, 78, 99]\n",
      "blank cols = [19, 23, 33, 48, 49, 56, 59, 76, 121]\n",
      "total distance =  597714117556\n"
     ]
    }
   ],
   "source": [
    "# Part 2\n",
    "\n",
    "def find_blank_rows(data):\n",
    "    blanks = []\n",
    "    for i in range(len(data)):\n",
    "        if '#' not in data[i]:\n",
    "            blanks.append(i)\n",
    "    return blanks\n",
    "\n",
    "# main\n",
    "data = open(\"input_11.txt\").read().splitlines()\n",
    "# print(data)\n",
    "# [print(line) for line in data]\n",
    "\n",
    "blank_rows = find_blank_rows(data)\n",
    "# transpose and expand rows again\n",
    "dataT = [[row[i] for row in data] for i in range(len(data[0]))]\n",
    "blank_cols = find_blank_rows(dataT)\n",
    "\n",
    "print('blank rows =',blank_rows)\n",
    "print('blank cols =',blank_cols)\n",
    "\n",
    "# [print(line) for line in data]\n",
    "# print('size of data =',len(data),len(data[0]))\n",
    "\n",
    "# bring back to list of strings\n",
    "# data = [''.join(line) for line in data]\n",
    "# print(data)\n",
    "\n",
    "# find galaxies\n",
    "coords = []\n",
    "for a in range(len(data)):\n",
    "    found = [i for i, letter in enumerate(data[a]) if letter == '#']\n",
    "    # print(found)\n",
    "    if found:\n",
    "        [coords.append((a,b)) for b in found] if found else 0\n",
    "# print(coords)\n",
    "\n",
    "expansion_multiplier = 1000000\n",
    "total_steps = 0\n",
    "for a in range(len(coords)):\n",
    "    for b in range(a+1,len(coords)):\n",
    "        # print('coords:',coords[a],'to',coords[b])\n",
    "        rows_to_cross = [x for x in range(min(coords[a][0],coords[b][0])+1,max(coords[a][0],coords[b][0]))]\n",
    "        cols_to_cross = [x for x in range(min(coords[a][1],coords[b][1])+1,max(coords[a][1],coords[b][1]))]\n",
    "        blank_rows_crossed = sum(x in rows_to_cross for x in blank_rows)\n",
    "        blank_cols_crossed = sum(x in cols_to_cross for x in blank_cols)\n",
    "        # print('blank rows,cols crossed =',blank_rows_crossed,blank_cols_crossed)\n",
    "        steps = abs(coords[b][0] - coords[a][0]) + abs(coords[b][1] - coords[a][1]) \\\n",
    "            - blank_rows_crossed + blank_rows_crossed*expansion_multiplier \\\n",
    "            - blank_cols_crossed + blank_cols_crossed*expansion_multiplier\n",
    "        # print('steps =',steps)\n",
    "        total_steps += steps\n",
    "    # print(' ')\n",
    "\n",
    "print('total distance = ',total_steps)\n"
   ]
  }
 ],
 "metadata": {
  "kernelspec": {
   "display_name": ".venv",
   "language": "python",
   "name": "python3"
  },
  "language_info": {
   "codemirror_mode": {
    "name": "ipython",
    "version": 3
   },
   "file_extension": ".py",
   "mimetype": "text/x-python",
   "name": "python",
   "nbconvert_exporter": "python",
   "pygments_lexer": "ipython3",
   "version": "3.12.1"
  }
 },
 "nbformat": 4,
 "nbformat_minor": 2
}
