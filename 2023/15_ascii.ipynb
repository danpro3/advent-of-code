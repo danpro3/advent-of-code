{
 "cells": [
  {
   "cell_type": "code",
   "execution_count": 20,
   "metadata": {},
   "outputs": [
    {
     "name": "stdout",
     "output_type": "stream",
     "text": [
      "total = 507769\n"
     ]
    }
   ],
   "source": [
    "# Part 1\n",
    "lines = open(\"input_15.txt\").read().split(',')\n",
    "# print(lines)\n",
    "# lines = ['HASH']\n",
    "total = 0\n",
    "for i,step in enumerate(lines):\n",
    "    # print(step)\n",
    "    value = 0\n",
    "    for ch in step:\n",
    "        value += ord(ch)\n",
    "        value *= 17\n",
    "        value = value % 256\n",
    "        # print('value =',value)\n",
    "    total += value\n",
    "print('total =',total)\n"
   ]
  },
  {
   "cell_type": "code",
   "execution_count": 102,
   "metadata": {},
   "outputs": [
    {
     "name": "stdout",
     "output_type": "stream",
     "text": [
      "focusing power = 269747\n"
     ]
    }
   ],
   "source": [
    "# Part 2\n",
    "import re\n",
    "def hash(label):\n",
    "    value = 0\n",
    "    for ch in label:\n",
    "        value += ord(ch)\n",
    "        value *= 17\n",
    "        value = value % 256\n",
    "        # print('value =',value)\n",
    "    return value\n",
    "\n",
    "def add_lens(boxes,bin,label,f):\n",
    "    slot = ''\n",
    "    if len(boxes[bin]) > 0:\n",
    "        for i in range(len(boxes[bin])):\n",
    "            if label == boxes[bin][i][0]:\n",
    "                # already has a lens with same label. Replace it\n",
    "                slot = i\n",
    "                boxes[bin][slot][1] = f\n",
    "    if not isinstance(slot,int):\n",
    "        boxes[bin].append([label,f])\n",
    "    return boxes\n",
    "\n",
    "def remove_lens(boxes,bin,label):\n",
    "    if len(boxes[bin]) > 0:\n",
    "        for i in range(len(boxes[bin])):\n",
    "            if label == boxes[bin][i][0]:\n",
    "                # found a matching lens label. Remove it\n",
    "                # print(bin,i,label,boxes[bin][0])\n",
    "                boxes[bin].pop(i)\n",
    "                break\n",
    "    return boxes\n",
    "\n",
    "def cal_focus_power(boxes):\n",
    "    power = 0\n",
    "    for bin,box in enumerate(boxes):\n",
    "        for s,slot in enumerate(box):\n",
    "            power += (1+bin)*(1+s)*slot[1]\n",
    "    return power\n",
    "\n",
    "# main\n",
    "lines = open(\"input_15.txt\").read().split(',')\n",
    "# print(lines)\n",
    "# lines = ['HASH']\n",
    "boxes = [[] for x in range(256)]\n",
    "# print(boxes)\n",
    "\n",
    "for i,step in enumerate(lines):\n",
    "    label,f = re.split('=|-',step)  # len[0] is the label, len[1] is the focal length\n",
    "    bin = hash(label)\n",
    "    # print('i =',i,'step =',step,'label =',label,'box =',bin,'focus =',f)\n",
    "    if f != '':\n",
    "        boxes = add_lens(boxes,bin,label,int(f))\n",
    "    else:\n",
    "        boxes = remove_lens(boxes,bin,label)\n",
    "    # print(boxes)\n",
    "\n",
    "power = cal_focus_power(boxes)\n",
    "print('focusing power =',power)\n"
   ]
  }
 ],
 "metadata": {
  "kernelspec": {
   "display_name": ".venv",
   "language": "python",
   "name": "python3"
  },
  "language_info": {
   "codemirror_mode": {
    "name": "ipython",
    "version": 3
   },
   "file_extension": ".py",
   "mimetype": "text/x-python",
   "name": "python",
   "nbconvert_exporter": "python",
   "pygments_lexer": "ipython3",
   "version": "3.12.1"
  }
 },
 "nbformat": 4,
 "nbformat_minor": 2
}
