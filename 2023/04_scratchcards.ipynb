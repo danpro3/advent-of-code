{
 "cells": [
  {
   "cell_type": "code",
   "execution_count": 21,
   "metadata": {},
   "outputs": [
    {
     "name": "stdout",
     "output_type": "stream",
     "text": [
      "Sum of scores =  25571\n"
     ]
    }
   ],
   "source": [
    "lines = open(\"input_04.txt\").read().splitlines()\n",
    "sum_scores = 0\n",
    "for i,line in enumerate(lines):\n",
    "    lists = line.split(':')\n",
    "    # print(line)\n",
    "    lists = lists[1].split('|')\n",
    "    # print(lists)\n",
    "    A = [eval(i) for i in lists[0].split()]\n",
    "    B = [eval(i) for i in lists[1].split()]\n",
    "    # print(A,B)\n",
    "    M = [n for n in A if n in B]\n",
    "    score = int(2**(len(M)-1) // 1)\n",
    "    # print(M,len(M),score)\n",
    "    sum_scores += score\n",
    "print('Sum of scores = ',sum_scores)\n"
   ]
  },
  {
   "cell_type": "code",
   "execution_count": 12,
   "metadata": {},
   "outputs": [
    {
     "name": "stdout",
     "output_type": "stream",
     "text": [
      "[1, 2, 4, 8, 16, 32, 62, 124, 248, 479, 479, 479, 802, 1600, 3192, 5905, 11810, 23558, 35306, 33458, 32656, 65312, 127432, 198650, 1, 2, 4, 8, 16, 32, 48, 96, 192, 381, 762, 754, 1508, 3012, 6024, 8988, 17944, 35888, 62692, 123684, 240963, 339544, 679088, 1295484, 1911880, 1, 2, 4, 8, 16, 16, 32, 63, 126, 189, 378, 535, 1068, 1219, 2430, 4860, 6206, 7426, 8646, 7427, 14854, 14855, 1, 2, 4, 8, 16, 16, 32, 32, 64, 128, 255, 446, 890, 1776, 2654, 5180, 10344, 20688, 20656, 41312, 82369, 102770, 203318, 311269, 1, 2, 4, 8, 6, 12, 24, 48, 92, 124, 248, 247, 494, 525, 1050, 2094, 4188, 7827, 6777, 13554, 495, 1, 2, 3, 6, 12, 24, 48, 96, 144, 285, 568, 1136, 556, 1088, 1470, 2940, 4314, 8628, 17256, 34512, 59023, 79220, 1, 2, 4, 8, 8, 16, 32, 64, 128, 191, 382, 760, 1486, 2972, 5944, 11498, 22980, 44474, 88757, 159184, 292416, 540358, 159185, 1, 2, 4, 8, 16, 32, 64, 128, 256, 444, 888, 1775, 3548, 7096, 14168, 28336, 27860, 41552, 39649, 38505, 77010, 143376, 209742, 380979, 1, 1, 2, 4, 8, 16, 16, 32, 64, 126, 252, 504, 1007, 1762, 3512, 5262, 4255, 4982, 4320, 8576, 17152, 1, 1, 2, 4, 8, 16, 32, 64, 91, 172, 344, 688, 1204, 2408, 4725, 1565, 1910]\n",
      "Sum of cards =  8805731\n"
     ]
    }
   ],
   "source": [
    "lines = open(\"input_04.txt\").read().splitlines()\n",
    "sum_scores = 0\n",
    "cards = [1]*len(lines)\n",
    "for i,line in enumerate(lines):\n",
    "    lists = line.split(':')\n",
    "    # print(line)\n",
    "    lists = lists[1].split('|')\n",
    "    # print(lists)\n",
    "    A = [eval(i) for i in lists[0].split()]\n",
    "    B = [eval(i) for i in lists[1].split()]\n",
    "    M = [n for n in A if n in B]\n",
    "    matches = len(M)\n",
    "    # print(f'Card {i+1} has {matches} matches')\n",
    "    # loop to add copies to the other cards\n",
    "    for k in range(matches):\n",
    "        cards[i+k+1] += cards[i] # if i+k+1 < len(cards) else 0 # this last part not needed\n",
    "print(cards)\n",
    "print('Sum of cards = ',sum(cards))"
   ]
  }
 ],
 "metadata": {
  "kernelspec": {
   "display_name": "Python 3",
   "language": "python",
   "name": "python3"
  },
  "language_info": {
   "codemirror_mode": {
    "name": "ipython",
    "version": 3
   },
   "file_extension": ".py",
   "mimetype": "text/x-python",
   "name": "python",
   "nbconvert_exporter": "python",
   "pygments_lexer": "ipython3",
   "version": "3.10.13"
  }
 },
 "nbformat": 4,
 "nbformat_minor": 2
}
