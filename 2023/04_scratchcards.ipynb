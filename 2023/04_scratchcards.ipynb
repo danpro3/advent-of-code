line = '12 23 34 40 | 34 45 56 67 23'
lists = line.split('|')
print(lists)
list0 = [eval(i) for i in lists[0].split()]
list1 = [eval(i) for i in lists[1].split()]
print(list0)
print(list1)
m = [n for n in list0 if n in list1]
print(m)
print(sum(m))
