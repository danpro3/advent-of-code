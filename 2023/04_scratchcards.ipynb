{
 "cells": [
  {
   "cell_type": "code",
   "execution_count": 21,
   "metadata": {},
   "outputs": [
    {
     "name": "stdout",
     "output_type": "stream",
     "text": [
      "Sum of scores =  25571\n"
     ]
    }
   ],
   "source": [
    "lines = open(\"input_04.txt\").read().splitlines()\n",
    "sum_scores = 0\n",
    "for i,line in enumerate(lines):\n",
    "    lists = line.split(':')\n",
    "    # print(line)\n",
    "    lists = lists[1].split('|')\n",
    "    # print(lists)\n",
    "    A = [eval(i) for i in lists[0].split()]\n",
    "    B = [eval(i) for i in lists[1].split()]\n",
    "    # print(A,B)\n",
    "    M = [n for n in A if n in B]\n",
    "    score = int(2**(len(M)-1) // 1)\n",
    "    # print(M,len(M),score)\n",
    "    sum_scores += score\n",
    "print('Sum of scores = ',sum_scores)\n"
   ]
  }
 ],
 "metadata": {
  "kernelspec": {
   "display_name": "Python 3",
   "language": "python",
   "name": "python3"
  },
  "language_info": {
   "codemirror_mode": {
    "name": "ipython",
    "version": 3
   },
   "file_extension": ".py",
   "mimetype": "text/x-python",
   "name": "python",
   "nbconvert_exporter": "python",
   "pygments_lexer": "ipython3",
   "version": "3.10.13"
  }
 },
 "nbformat": 4,
 "nbformat_minor": 2
}
