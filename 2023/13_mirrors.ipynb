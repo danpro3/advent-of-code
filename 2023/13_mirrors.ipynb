{
 "cells": [
  {
   "cell_type": "code",
   "execution_count": 46,
   "metadata": {},
   "outputs": [
    {
     "name": "stdout",
     "output_type": "stream",
     "text": [
      "Total = 33735\n"
     ]
    }
   ],
   "source": [
    "# Part 1\n",
    "def find_reflection(mirror):\n",
    "    # look for horiz reflection\n",
    "    numrows = len(mirror)\n",
    "    for i in range(1,numrows):\n",
    "        reflection_rows = min(i,numrows-i)\n",
    "        # print(i,reflection_rows)\n",
    "        # print('top   ',[x for x in reversed(mirror[i-reflection_rows:i])])\n",
    "        # print('bottom',mirror[i:i+reflection_rows])\n",
    "        if [x for x in reversed(mirror[i-reflection_rows:i])] == mirror[i:i+reflection_rows]:\n",
    "            # print('reflection at ',i)\n",
    "            return i\n",
    "    return 0\n",
    "\n",
    "lines = open(\"input_13.txt\").read().splitlines()\n",
    "mirror = []\n",
    "# print(len(lines))\n",
    "total = 0\n",
    "for i,line in enumerate(lines):\n",
    "    if line == '' or i == len(lines)-1:\n",
    "        mirror.append(line) if i == len(lines)-1 else 0\n",
    "        # reached the end of a mirror. find the reflection\n",
    "        # print('Find mirror reflection for ')\n",
    "        # [print(x) for x in mirror]\n",
    "        # print(' ')\n",
    "        # search for horizontal reflection\n",
    "        resultA = find_reflection(mirror)\n",
    "        # turn into a grid, transpose mirror and try for vertical reflection\n",
    "        mirror = [[row[i] for row in mirror] for i in range(len(mirror[0]))]\n",
    "        mirror = [''.join(x) for x in mirror]\n",
    "        resultB = find_reflection(mirror)\n",
    "\n",
    "        total += 100*resultA + resultB\n",
    "        mirror = []\n",
    "    else:\n",
    "        mirror.append(line)\n",
    "print('Total =',total)\n"
   ]
  },
  {
   "cell_type": "code",
   "execution_count": 80,
   "metadata": {},
   "outputs": [
    {
     "name": "stdout",
     "output_type": "stream",
     "text": [
      "Total = 38063\n"
     ]
    }
   ],
   "source": [
    "# Part 2\n",
    "def find_reflection(mirror):\n",
    "    # look for horiz reflection\n",
    "    numrows = len(mirror)\n",
    "    for i in range(1,numrows):\n",
    "        reflection_rows = min(i,numrows-i)\n",
    "        \n",
    "        mirrorA = [x for x in reversed(mirror[i-reflection_rows:i])]\n",
    "        mirrorB = mirror[i:i+reflection_rows]\n",
    "        mirrorA = ''.join(mirrorA)\n",
    "        mirrorB = ''.join(mirrorB)\n",
    "        # print(mirrorA)\n",
    "        # print(mirrorB)\n",
    "        diffy = 0\n",
    "        for a in range(len(mirrorA)):\n",
    "            diffy += 1 if mirrorA[a] != mirrorB[a] else 0\n",
    "        # print('diffy =',diffy)\n",
    "        if diffy == 1: # set this = 0 for part 1\n",
    "            return i\n",
    "    return 0\n",
    "\n",
    "lines = open(\"input_13.txt\").read().splitlines()\n",
    "mirror = []\n",
    "# print(len(lines))\n",
    "total = 0\n",
    "for i,line in enumerate(lines):\n",
    "    if line == '' or i == len(lines)-1:\n",
    "        mirror.append(line) if i == len(lines)-1 else 0\n",
    "        # reached the end of a mirror. find the reflection\n",
    "\n",
    "        # print('Find mirror reflection for ')\n",
    "        # [print(x) for x in mirror]\n",
    "        # print(' ')\n",
    "        resultA = find_reflection(mirror) # search for horizontal reflection\n",
    "        # turn into a grid, transpose mirror and try for vertical reflection\n",
    "        mirror = [[row[i] for row in mirror] for i in range(len(mirror[0]))]\n",
    "        mirror = [''.join(x) for x in mirror]\n",
    "        resultB = find_reflection(mirror)  \n",
    "\n",
    "        total += 100*resultA + resultB\n",
    "        mirror = []\n",
    "    else:\n",
    "        mirror.append(line)\n",
    "print('Total =',total)\n"
   ]
  }
 ],
 "metadata": {
  "kernelspec": {
   "display_name": ".venv",
   "language": "python",
   "name": "python3"
  },
  "language_info": {
   "codemirror_mode": {
    "name": "ipython",
    "version": 3
   },
   "file_extension": ".py",
   "mimetype": "text/x-python",
   "name": "python",
   "nbconvert_exporter": "python",
   "pygments_lexer": "ipython3",
   "version": "3.12.1"
  }
 },
 "nbformat": 4,
 "nbformat_minor": 2
}
