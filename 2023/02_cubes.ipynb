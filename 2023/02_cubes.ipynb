{
 "cells": [
  {
   "cell_type": "code",
   "execution_count": 2,
   "metadata": {},
   "outputs": [
    {
     "name": "stdout",
     "output_type": "stream",
     "text": [
      "Sum of possible game numbers =  2076\n",
      "Sum of all game minimum powers =  70950\n"
     ]
    }
   ],
   "source": [
    "# 2023-12-02 Red, Green, Blue cubes\n",
    "TOTALS = [12,13,14] # red, green, blue\n",
    "sum_game_numbers = 0\n",
    "sum_powers = 0\n",
    "with open(\"inputs/input_02.txt\", \"r\") as file:\n",
    "    for i,line in enumerate(file):\n",
    "        # game += 1\n",
    "        line = line.replace(':',',')\n",
    "        line = line.replace(';',',')\n",
    "        line = line.replace('Game','0')\n",
    "        # print(line.replace('\\n',''))\n",
    "        pairs = line.split(',')\n",
    "        game_number = int(pairs[0][2:])\n",
    "        minimums = [0,0,0] # red, green, blue\n",
    "        for pair in pairs:\n",
    "            splitpair = pair.split()\n",
    "            num = int(splitpair[0])\n",
    "            if splitpair[1] == 'red':\n",
    "                if num > minimums[0]:\n",
    "                    minimums[0] = num\n",
    "            if splitpair[1] == 'green':\n",
    "                if num > minimums[1]:\n",
    "                    minimums[1] = num\n",
    "            if splitpair[1] == 'blue':\n",
    "                if num > minimums[2]:\n",
    "                    minimums[2] = num\n",
    "        # print('minimums = ',minimums)\n",
    "        if all(minimums[i] <= TOTALS[i] for i in range(3)):\n",
    "            sum_game_numbers = sum_game_numbers + game_number\n",
    "        sum_powers = sum_powers + minimums[0]*minimums[1]*minimums[2]\n",
    "print('Sum of possible game numbers = ',sum_game_numbers)\n",
    "print('Sum of all game minimum powers = ',sum_powers)\n",
    "\n"
   ]
  }
 ],
 "metadata": {
  "kernelspec": {
   "display_name": ".venv",
   "language": "python",
   "name": "python3"
  },
  "language_info": {
   "codemirror_mode": {
    "name": "ipython",
    "version": 3
   },
   "file_extension": ".py",
   "mimetype": "text/x-python",
   "name": "python",
   "nbconvert_exporter": "python",
   "pygments_lexer": "ipython3",
   "version": "3.10.12"
  }
 },
 "nbformat": 4,
 "nbformat_minor": 2
}
