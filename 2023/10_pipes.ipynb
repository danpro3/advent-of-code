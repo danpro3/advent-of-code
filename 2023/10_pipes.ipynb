{
 "cells": [
  {
   "cell_type": "code",
   "execution_count": 48,
   "metadata": {},
   "outputs": [
    {
     "name": "stdout",
     "output_type": "stream",
     "text": [
      "7-F7-\n",
      ".FJ|7\n",
      "SJLL7\n",
      "|F--J\n",
      "LJ.LJ\n",
      "coords of S:  2 0\n",
      "2 1 1 True J\n"
     ]
    }
   ],
   "source": [
    "# Part 1\n",
    "def update(a,b,cnt,go):\n",
    "    return a, b, cnt+1, True\n",
    "\n",
    "# main\n",
    "pipes = open(\"input_10_test.txt\").read().splitlines()\n",
    "[print(line) for line in pipes]\n",
    "\n",
    "# find Starting S\n",
    "a = -1\n",
    "b = -1\n",
    "while b < 0:\n",
    "    a += 1\n",
    "    b = pipes[a].find('S') if 'S' in pipes[a] else -2\n",
    "print('coords of S: ',a,b)\n",
    "\n",
    "# Move along the path\n",
    "# pipes: |  -  L  J  7  F\n",
    "turns = {'|':['N','S'], '-':['E','W'], 'L':['N','E'], 'J':['N','W'], '7':['W','S'], 'F':['E','S']}\n",
    "allows = {'N':['|','7','F'], 'E':['-','J','7'], 'S':['|','L','J'], 'W':['-','L','F']}\n",
    "\n",
    "pipes[a][b]\n",
    "go = False\n",
    "done = False\n",
    "cnt = 0\n",
    "while go == False:\n",
    "    if not go and a > 0 and pipes[a-1][b] in allows.get('N'):\n",
    "        a,b,cnt,go = update(a-1,b,cnt,go)\n",
    "    if not go and b < len(pipes[0])-1 and pipes[a][b+1] in allows.get('E'):\n",
    "        a,b,cnt,go = update(a,b+1,cnt,go)\n",
    "    if not go and a < len(pipes)-1 and pipes[a+1][b] in allows.get('S'):\n",
    "        a,b,cnt,go = update(a+1,b,cnt,go)\n",
    "    if not go and b > 0 and pipes[a][b-1] in allows.get('W'):\n",
    "        a,b,cnt,go = update(a,b-1,cnt,go)\n",
    "    if pipes[a][b] == 'S':\n",
    "        done = True\n",
    "    print(a,b,cnt,go,pipes[a][b])\n",
    "\n",
    "\n"
   ]
  }
 ],
 "metadata": {
  "kernelspec": {
   "display_name": ".venv",
   "language": "python",
   "name": "python3"
  },
  "language_info": {
   "codemirror_mode": {
    "name": "ipython",
    "version": 3
   },
   "file_extension": ".py",
   "mimetype": "text/x-python",
   "name": "python",
   "nbconvert_exporter": "python",
   "pygments_lexer": "ipython3",
   "version": "3.12.1"
  }
 },
 "nbformat": 4,
 "nbformat_minor": 2
}
