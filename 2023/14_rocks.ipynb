{
 "cells": [
  {
   "cell_type": "code",
   "execution_count": 142,
   "metadata": {},
   "outputs": [
    {
     "name": "stdout",
     "output_type": "stream",
     "text": [
      "total = 108759\n"
     ]
    }
   ],
   "source": [
    "# Part 1\n",
    "lines = open(\"input_14.txt\").read().splitlines()\n",
    "# print('lines ='); [print(x) for x in lines]\n",
    "total = 0\n",
    "# transpose and roll the rocks to the left\n",
    "T = [[row[i] for row in lines] for i in range(len(lines[0]))]\n",
    "# print('T ='); [print(x) for x in T]; print(' ')\n",
    "for r in range(len(T)):\n",
    "    moved = True\n",
    "    while moved == True:\n",
    "        moved = False\n",
    "        for a in range(len(T)-1):\n",
    "            # print(f\"a = {a}, b = {b} T[r][b] = {T[r][b]} T[r][b+1] = {T[r][b+1]}\")\n",
    "            if T[r][a] == '.' and T[r][a+1] == 'O':\n",
    "                T[r][a] = 'O'\n",
    "                T[r][a+1] = '.'\n",
    "                moved = True\n",
    "# print('rolled T ='); [print(x) for x in T]; print(' ')\n",
    "\n",
    "# transpose back\n",
    "M = [[row[i] for row in T] for i in range(len(T[0]))]\n",
    "# print('M ='); [print(x) for x in M]; print(' ')\n",
    "\n",
    "# count up the row\n",
    "for r in range(len(M)):\n",
    "    cnt = len([i for i,v in enumerate(M[r]) if v == 'O'])\n",
    "    # print('cnt of Os:',cnt,'multiplier =',len(M)-r)\n",
    "    total += cnt * (len(M)-r)\n",
    "print('total =',total)\n"
   ]
  },
  {
   "cell_type": "code",
   "execution_count": 236,
   "metadata": {},
   "outputs": [
    {
     "name": "stdout",
     "output_type": "stream",
     "text": [
      "i =  717 total = 89044\n",
      "i =  734 total = 89044\n",
      "i =  751 total = 89044\n",
      "i =  768 total = 89044\n",
      "i =  785 total = 89044\n",
      "i =  802 total = 89044\n",
      "cycle:  805 total load = 89089\n"
     ]
    }
   ],
   "source": [
    "# Part 2\n",
    "def print_table(T):\n",
    "    # print(T)\n",
    "    print('table = ')\n",
    "    [print(''.join(x)) for x in T]\n",
    "    print(' ')\n",
    "\n",
    "def calc_load(T):\n",
    "    total = 0\n",
    "    for r in range(len(T)):\n",
    "        cnt = len([i for i,v in enumerate(T[r]) if v == 'O'])\n",
    "        # print('cnt of Os:',cnt,'multiplier =',len(M)-r)\n",
    "        total += cnt * (len(T)-r)\n",
    "    # print('total =',total)\n",
    "    return total\n",
    "    \n",
    "def rotate(T): # clockwise\n",
    "    return [list(a) for a in zip(*T[::-1])]\n",
    "\n",
    "def tilt(T):\n",
    "    for c in range(len(T[0])):  # loop on columns\n",
    "        moved = True\n",
    "        while moved:\n",
    "            moved = False\n",
    "            for r in range(len(T)-1):\n",
    "                if T[r][c] == '.' and T[r+1][c] == 'O':\n",
    "                    T[r][c] = 'O'\n",
    "                    T[r+1][c] = '.'\n",
    "                    moved = True\n",
    "    return T\n",
    "\n",
    "# main\n",
    "lines = open(\"input_14.txt\").read().splitlines()\n",
    "T = [list(x) for x in lines]\n",
    "# print_table(lines)\n",
    "\n",
    "cycles = 1000000000\n",
    "# found the pattern repeats after 17 cycles, starting after cycle 800\n",
    "equivalent_cycles = 800 + (cycles-800) % 17\n",
    "\n",
    "tots = []\n",
    "for i in range(equivalent_cycles):\n",
    "    for k in range(4):\n",
    "        T = tilt(T)\n",
    "        T = rotate(T)\n",
    "    total = calc_load(T)\n",
    "    tots.append(total)\n",
    "    # if i > 1000 and tots[-6:-1] == tots[100:105]:\n",
    "    if i > 700 and tots[-1] == tots[700]:\n",
    "        print('i = ',i,'total =',total)\n",
    "\n",
    "print('cycle: ',i,'total load =',tots[-1])\n",
    "    "
   ]
  }
 ],
 "metadata": {
  "kernelspec": {
   "display_name": ".venv",
   "language": "python",
   "name": "python3"
  },
  "language_info": {
   "codemirror_mode": {
    "name": "ipython",
    "version": 3
   },
   "file_extension": ".py",
   "mimetype": "text/x-python",
   "name": "python",
   "nbconvert_exporter": "python",
   "pygments_lexer": "ipython3",
   "version": "3.12.1"
  }
 },
 "nbformat": 4,
 "nbformat_minor": 2
}
