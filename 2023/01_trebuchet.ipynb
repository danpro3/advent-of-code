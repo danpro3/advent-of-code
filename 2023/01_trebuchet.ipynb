{
 "cells": [
  {
   "cell_type": "code",
   "execution_count": 3,
   "metadata": {},
   "outputs": [
    {
     "name": "stdout",
     "output_type": "stream",
     "text": [
      "Calibration values =  55123\n"
     ]
    }
   ],
   "source": [
    "# Part 1\n",
    "import re\n",
    "sum_values = 0\n",
    "lines = open(\"01__input.txt\").read().splitlines()\n",
    "\n",
    "for i,line in enumerate(lines):\n",
    "    x = re.findall(r'\\d',line)\n",
    "    sum_values += int(x[0]+x[-1])\n",
    "print('Calibration values = ',sum_values)\n"
   ]
  },
  {
   "cell_type": "code",
   "execution_count": 23,
   "metadata": {},
   "outputs": [
    {
     "name": "stdout",
     "output_type": "stream",
     "text": [
      "Calibration values =  55260\n"
     ]
    }
   ],
   "source": [
    "# Part 2\n",
    "import re\n",
    "numbers = ['one','two','three','four','five','six','seven','eight','nine']\n",
    "numbers2 = [numbers[i][::-1] for i in range(9)]\n",
    "# numbers2 = ['eno','owt','eerht','ruof','evif','xis','neves','thgie','enin']\n",
    "sum_values = 0\n",
    "x = ['','']\n",
    "lines = open(\"01__input.txt\").read().splitlines()\n",
    "for i,line in enumerate(lines):\n",
    "    found = re.findall(r'\\d|one|two|three|four|five|six|seven|eight|nine',line)\n",
    "    found2 = re.findall(r'\\d|eno|owt|eerht|ruof|evif|xis|neves|thgie|enin',line[::-1])\n",
    "    if not found[0].isdigit():\n",
    "        x[0] = numbers.index(found[0])+1\n",
    "    else:\n",
    "        x[0] = int(found[0])\n",
    "\n",
    "    if not found2[0].isdigit():\n",
    "        x[1] = numbers2.index(found2[0])+1 \n",
    "    else:\n",
    "        x[1] = int(found2[0])\n",
    "    # print(i,line, found, x[0]*10 + x[1])\n",
    "    sum_values += x[0]*10 + x[1]\n",
    "print('Calibration values = ',sum_values)"
   ]
  }
 ],
 "metadata": {
  "kernelspec": {
   "display_name": "Python 3",
   "language": "python",
   "name": "python3"
  },
  "language_info": {
   "codemirror_mode": {
    "name": "ipython",
    "version": 3
   },
   "file_extension": ".py",
   "mimetype": "text/x-python",
   "name": "python",
   "nbconvert_exporter": "python",
   "pygments_lexer": "ipython3",
   "version": "3.10.13"
  }
 },
 "nbformat": 4,
 "nbformat_minor": 2
}
