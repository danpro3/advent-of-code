{
 "cells": [
  {
   "cell_type": "code",
   "execution_count": 13,
   "metadata": {},
   "outputs": [
    {
     "name": "stdout",
     "output_type": "stream",
     "text": [
      "total nexts =  1834108701\n"
     ]
    }
   ],
   "source": [
    "# Part 1\n",
    "import numpy as np\n",
    "lines = [x.split() for x in open(\"input_09.txt\").read().splitlines()]\n",
    "for i in range(len(lines)):\n",
    "    lines[i] = [int(x) for x in lines[i]]\n",
    "# print('lines =',lines)\n",
    "# lines = [[10 , 13, 16, 21, 30, 45]] # one line example\n",
    "# lines = [[3784, 33359, 93366, 182093]]  # mine day 21, 302108]]\n",
    "# lines = [[3703, 32957, 91379, 178969]]  # day 21 reddit guy  \n",
    "nexts = []\n",
    "total_nexts = 0\n",
    "for i,line in enumerate(lines):\n",
    "    # print('line =',line)\n",
    "    d_count = 1\n",
    "    d = [np.diff(line).tolist()]\n",
    "    # print('   diff count =',d_count,', diff =',d)\n",
    "    while sum(abs(x) for x in d[-1]) > 0:\n",
    "        d.append(np.diff(d[-1]).tolist())\n",
    "        d_count += 1\n",
    "    # print('   diff count =',d_count,', diff =',d)\n",
    "    enders = [x[-1] for x in d]  # end of each diff list\n",
    "    nexts.append(sum(enders) + line[-1])\n",
    "    total_nexts += sum(enders) + line[-1]\n",
    "    # print('enders =',enders)\n",
    "print('total nexts = ',total_nexts)\n",
    "\n"
   ]
  },
  {
   "cell_type": "code",
   "execution_count": 2,
   "metadata": {},
   "outputs": [
    {
     "name": "stdout",
     "output_type": "stream",
     "text": [
      "total prev =  993\n"
     ]
    }
   ],
   "source": [
    "# Part 2\n",
    "import numpy as np\n",
    "lines = [x.split() for x in open(\"input_09.txt\").read().splitlines()]\n",
    "for i in range(len(lines)):\n",
    "    lines[i] = [int(x) for x in lines[i]]\n",
    "# print('lines =',lines)\n",
    "\n",
    "nexts = []\n",
    "total_prev = 0\n",
    "for i,line in enumerate(lines):\n",
    "    running_start = 0\n",
    "    # print('line =',line)\n",
    "    d_count = 1\n",
    "    d = [np.diff(line).tolist()]\n",
    "    # print('   diff count =',d_count,', diff =',d)\n",
    "    while sum(abs(x) for x in d[-1]) > 0:\n",
    "        d.append(np.diff(d[-1]).tolist())\n",
    "        d_count += 1\n",
    "    # print('   diff count =',d_count,', diff =',d)\n",
    "    starters = [x[0] for x in d]  # end of each diff list\n",
    "    for k in range(len(starters)-1,-1,-1):\n",
    "       running_start = -running_start + starters[k]\n",
    "    #    print('k =',k,'running_start =',running_start,'starters =',starters)\n",
    "    total_prev += -running_start + line[0]\n",
    "    # print('starters =',starters,' new first value =',-running_start + line[0])\n",
    "print('total prev = ',total_prev)\n",
    "\n",
    "# 0   1 3 6  10 15 21  28\n",
    "#  1   2 3  4  5  6   7\n",
    "#   1   1  1  1  1   1\n",
    "#    0   0   0  0   0\n",
    "\n"
   ]
  }
 ],
 "metadata": {
  "kernelspec": {
   "display_name": "Python 3",
   "language": "python",
   "name": "python3"
  },
  "language_info": {
   "codemirror_mode": {
    "name": "ipython",
    "version": 3
   },
   "file_extension": ".py",
   "mimetype": "text/x-python",
   "name": "python",
   "nbconvert_exporter": "python",
   "pygments_lexer": "ipython3",
   "version": "3.12.1"
  }
 },
 "nbformat": 4,
 "nbformat_minor": 2
}
