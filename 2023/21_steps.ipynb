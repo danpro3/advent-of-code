{
 "cells": [
  {
   "cell_type": "code",
   "execution_count": 245,
   "metadata": {},
   "outputs": [
    {
     "name": "stdout",
     "output_type": "stream",
     "text": [
      "coords of S:  65 65\n",
      "sum of seen tiles 80119\n",
      "sum of visited tiles 3677\n"
     ]
    }
   ],
   "source": [
    "# part 1\n",
    "import copy\n",
    "\n",
    "def print_grid(grid):\n",
    "    # print(grid)\n",
    "    print('grid = ')\n",
    "    [print(''.join(x)) for x in grid]\n",
    "    print(' ')\n",
    "\n",
    "def print_populated(X,Y,grid,which_set):\n",
    "    grid_populated = copy.deepcopy(grid)\n",
    "    for xy in which_set:\n",
    "        grid_populated[xy[0]][xy[1]] = 'O'\n",
    "    [print(''.join(x)) for x in grid_populated]\n",
    "    print(' ')\n",
    "\n",
    "def check_dirs(r,c,steps,X,Y,MAXSTEPS):\n",
    "    if steps > MAXSTEPS:\n",
    "        return 0\n",
    "    \n",
    "    if steps % 2 == 0:\n",
    "        visited.add((r,c))\n",
    "    if (r,c,steps) not in seen:\n",
    "        seen.add((r,c,steps))\n",
    "    else:\n",
    "        return 0\n",
    "    \n",
    "    if c > 0 and grid[r][c-1] != '#':\n",
    "        check_dirs(r,c-1,steps+1,X,Y,MAXSTEPS)\n",
    "    if r < X-1 and grid[r+1][c] != '#':\n",
    "        check_dirs(r+1,c,steps+1,X,Y,MAXSTEPS)\n",
    "    if r > 0 and grid[r-1][c] != '#':\n",
    "        check_dirs(r-1,c,steps+1,X,Y,MAXSTEPS)\n",
    "    if c < Y-1 and grid[r][c+1] != '#':\n",
    "        check_dirs(r,c+1,steps+1,X,Y,MAXSTEPS)\n",
    "\n",
    "# main\n",
    "MAXSTEPS = 64\n",
    "lines = open(\"input_21.txt\").read().splitlines()\n",
    "grid = [list(x) for x in lines]\n",
    "# print_grid(grid)\n",
    "X = len(grid)\n",
    "Y = len(grid[0])\n",
    "\n",
    "# find Starting S\n",
    "r = -1; c = -1\n",
    "while c < 0:\n",
    "    r += 1\n",
    "    c = lines[r].find('S') if 'S' in lines[r] else -2\n",
    "print('coords of S: ',r,c)\n",
    "\n",
    "seen = set([])\n",
    "visited = set([])\n",
    "steps = 0\n",
    "check_dirs(r,c,steps,X,Y,MAXSTEPS)\n",
    "# print_grid(grid)\n",
    "# print('seen:')\n",
    "# print_populated(X,Y,grid,seen)\n",
    "# print('visited')\n",
    "# print_populated(X,Y,grid,visited)\n",
    "print('sum of seen tiles',len(seen))\n",
    "print('sum of visited tiles',len(visited))\n"
   ]
  },
  {
   "cell_type": "code",
   "execution_count": 236,
   "metadata": {},
   "outputs": [
    {
     "name": "stdout",
     "output_type": "stream",
     "text": [
      "coords of S:  65 65\n",
      " \n",
      "total possible =  4225\n",
      "visited =  3679\n"
     ]
    }
   ],
   "source": [
    "# part 1 -- TESTER -- find the number of 0's in the diamond around the 'S'\n",
    "# main\n",
    "MAXSTEPS = 64\n",
    "lines = open(\"input_21.txt\").read().splitlines()\n",
    "grid = [list(x) for x in lines]\n",
    "# print_grid(grid)\n",
    "X = len(grid)\n",
    "Y = len(grid[0])\n",
    "\n",
    "# find Starting S\n",
    "a = -1; b = -1\n",
    "while b < 0:\n",
    "    a += 1\n",
    "    b = lines[a].find('S') if 'S' in lines[a] else -2\n",
    "print('coords of S: ',a,b)\n",
    "\n",
    "total_seen = 0\n",
    "visited = 0\n",
    "for r in range(a-MAXSTEPS,a+1):\n",
    "    for c in range(b-MAXSTEPS+(a-r),b+MAXSTEPS-(a-r)+1,2):\n",
    "        total_seen += 1\n",
    "        # print(r,c)\n",
    "        if grid[r][c] != '#':\n",
    "            visited += 1\n",
    "print(' ')\n",
    "for r in range(a+1,a+MAXSTEPS+1):\n",
    "    for c in range(b-MAXSTEPS+(r-a),b+MAXSTEPS-(r-a)+1,2):\n",
    "        total_seen += 1\n",
    "        # print(r,c)\n",
    "        if grid[r][c] != '#':\n",
    "            visited += 1\n",
    "\n",
    "print('total possible = ',total_seen)\n",
    "print('visited = ',visited)\n",
    "# answer here is 3679 but not the right answer\n"
   ]
  },
  {
   "cell_type": "code",
   "execution_count": 172,
   "metadata": {},
   "outputs": [
    {
     "data": {
      "text/plain": [
       "set()"
      ]
     },
     "execution_count": 172,
     "metadata": {},
     "output_type": "execute_result"
    }
   ],
   "source": [
    "# part 2"
   ]
  }
 ],
 "metadata": {
  "kernelspec": {
   "display_name": ".venv",
   "language": "python",
   "name": "python3"
  },
  "language_info": {
   "codemirror_mode": {
    "name": "ipython",
    "version": 3
   },
   "file_extension": ".py",
   "mimetype": "text/x-python",
   "name": "python",
   "nbconvert_exporter": "python",
   "pygments_lexer": "ipython3",
   "version": "3.12.1"
  }
 },
 "nbformat": 4,
 "nbformat_minor": 2
}
