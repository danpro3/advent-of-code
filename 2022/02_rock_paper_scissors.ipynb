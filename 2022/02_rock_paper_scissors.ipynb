{
 "cells": [
  {
   "cell_type": "code",
   "execution_count": 33,
   "metadata": {},
   "outputs": [
    {
     "name": "stdout",
     "output_type": "stream",
     "text": [
      "total score = 8890\n"
     ]
    }
   ],
   "source": [
    "# part 1\n",
    "import re\n",
    "# filestr = open('inputs/input_02_test.txt','r').read()\n",
    "filestr = open('inputs/input_02.txt','r').read()\n",
    "filestr = re.sub(r'[AX]','1',filestr)\n",
    "filestr = re.sub(r'B|Y','2',filestr)\n",
    "filestr = re.sub(r'[CZ]','3',filestr)\n",
    "lines = filestr.splitlines()\n",
    "total_score = 0\n",
    "# print(len(lines))\n",
    "for line in lines:\n",
    "    me = int(line[2])\n",
    "    you = int(line[0])\n",
    "    if abs(me-you) < 2:\n",
    "        bonus = 3*(1 + me - you)\n",
    "    elif me-you == -2:\n",
    "        bonus = 6\n",
    "    else:\n",
    "        bonus = 0\n",
    "    total_score += me + bonus\n",
    "    # print(f'{line} adds {me} + {bonus}')\n",
    "print(f'total score = {total_score}')\n"
   ]
  }
 ],
 "metadata": {
  "kernelspec": {
   "display_name": ".venv",
   "language": "python",
   "name": "python3"
  },
  "language_info": {
   "codemirror_mode": {
    "name": "ipython",
    "version": 3
   },
   "file_extension": ".py",
   "mimetype": "text/x-python",
   "name": "python",
   "nbconvert_exporter": "python",
   "pygments_lexer": "ipython3",
   "version": "3.10.12"
  }
 },
 "nbformat": 4,
 "nbformat_minor": 2
}
