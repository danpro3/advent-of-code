{
 "cells": [
  {
   "cell_type": "code",
   "execution_count": null,
   "metadata": {},
   "outputs": [
    {
     "name": "stdout",
     "output_type": "stream",
     "text": [
      "{'/': 41518953, 'bcfwbq': 37072768, 'bsbpc': 206932, 'gpbswq': 22729987, 'ctctt': 5110005, 'hhmm': 490923, 'jcw': 149585, 'jnh': 6695733, 'fzplg': 2214585, 'svsgnbs': 9750462, 'gsmltmw': 66467, 'lrr': 1088689, 'lpn': 8540879, 'tdpmdfgd': 354741, 'cghfclv': 49162, 'mcfzvlvw': 70065, 'bsbswh': 70065, 'hqsdsp': 70065, 'mdgvcgbc': 235514, 'vwqlvj': 554774, 'jvpc': 639121, 'rdgqr': 275985, 'qcjccsth': 275985, 'rqwvslc': 275985, 'sspn': 363136, 'mcz': 3431883, 'fjtj': 911941, 'jqbpcd': 1190085, 'nqgvl': 577651, 'snr': 185943, 'ztlrtgjl': 487251, 'qrrjgdbd': 170768, 'tnsjg': 6306998, 'jrflhz': 1544176, 'nnlzjwts': 416225, 'gljnss': 181850, 'sctf': 1006550, 'sfplvt': 215395, 'mldph': 163815, 'tts': 3697504, 'rthpbmhr': 11793332, 'wpnnrzb': 2514592, 'jqqhgjv': 1064612, 'sqchbqc': 253613, 'cphf': 253613, 'mqp': 10090, 'qvbvvb': 218093, 'mzw': 98994, 'pfps': 351429, 'cpp': 120225, 'htnmrjpq': 120225, 'phvgmv': 144721, 'pjcrwh': 265625, 'pvf': 439702, 'hdz': 103787, 'qtwfpmvz': 244905, 'phq': 5599122, 'ccwqrjn': 722269, 'ftnb': 226615, 'bhnnm': 99285, 'prfqw': 99285, 'hzsjlq': 99285, 'tjrqtmd': 387416, 'bqqtnfb': 320674, 'jnzfr': 320674, 'bdrqmr': 151767, 'zdsshmr': 77208, 'pljbtbn': 167985, 'sjbfhcpc': 184946, 'slmbb': 247259, 'jcth': 6106, 'njldhbln': 241153, 'sqc': 264937, 'zhrc': 264937, 'qswqqzb': 264937, 'flzsvb': 58735, 'pbw': 988336, 'qjjpmq': 337753, 'wjhplc': 562197, 'ztsgb': 541977, 'wzwfz': 1333480, 'bsqwtf': 352193, 'rhjb': 166599, 'sgzvb': 185594, 'lpng': 145778, 'nqrlzg': 141943, 'qjhlj': 141943, 'gncct': 141943, 'qczmdfm': 4482, 'zpwfj': 1403924, 'sflcgdm': 1176929, 'fpcq': 195792, 'jjsgqb': 612000, 'zptz': 278792, 'sjnvdz': 11789637, 'fchgggp': 3870490, 'fjcclj': 287009, 'pmhdzvfn': 2998251, 'llhp': 625073, 'lsft': 439932, 'pfjmphs': 185141, 'pmv': 412137, 'rzs': 1109047, 'tmcm': 693086, 'vzhbsdd': 113515, 'zfs': 223726, 'tztv': 320470, 'wfjwmbj': 120344, 'qtpdfwh': 27659, 'qszjt': 27659, 'vjwtvb': 207195, 'scswlmn': 207195, 'gldg': 1319857, 'hrp': 314410, 'vtgc': 231107, 'wvrzhdb': 83303, 'fhfqlv': 243574, 'mqglznd': 6213301, 'pfrjwbvl': 3847317, 'dfqzmd': 197980, 'jcbw': 115210, 'qtjbpbs': 59348, 'wvbrsb': 135584, 'hsjjp': 992823, 'fmzgm': 150025, 'rwd': 133433, 'nbpsdm': 417555, 'qlrfw': 244165, 'sgcpwst': 244165, 'fss': 244165, 'pswvwtf': 700044, 'psdz': 314036, 'lbcf': 314036, 'twddrn': 333004, 'njtgjt': 108520, 'mzwdb': 108520, 'vvcbjct': 155890, 'rbsrpg': 1423733, 'jdhmlzr': 1075642, 'cdnmflmm': 83138, 'qrwsnzdv': 197145, 'rzgnbgv': 1835419, 'tmcqcpfc': 264726, 'jtnf': 264726, 'twlnjr': 1362001, 'snpm': 57996, 'pgfhp': 21555, 'wqctlzz': 84585}\n",
      "total_size = 1324537\n"
     ]
    }
   ],
   "source": [
    "# part 1\n",
    "# lines = open('inputs/input_07_test.txt','r').read().splitlines()\n",
    "lines = open('inputs/input_07.txt','r').read().splitlines()\n",
    "\n",
    "dirdict = dict() # directory dictionary. Key = directory name, value: sum of sizes\n",
    "activedirs = []\n",
    "\n",
    "for k,line in enumerate(lines):\n",
    "    # print(line)\n",
    "    firsthalf = line.split()  # in case this is a filesize value\n",
    "    # print(firsthalf)\n",
    "    if line[0:4] == '$ cd' and line[5:] != '..':  # move into a directory\n",
    "        thisdir = line[5:]\n",
    "        # print(f'dir_name = {thisdir}')\n",
    "        activedirs.append(thisdir)\n",
    "        # print(activedirs)\n",
    "        if thisdir not in dirdict:\n",
    "            dirdict[thisdir] = 0\n",
    "    elif line == '$ cd ..':  # move out of a directory\n",
    "        # print(f'dir_name = {line[5:]}')\n",
    "        del activedirs[-1]\n",
    "        # print(activedirs)\n",
    "    elif firsthalf[0].isnumeric():    # tally up the file to all the active directories\n",
    "        for a in activedirs:\n",
    "            dirdict.update({a:dirdict[a]+int(firsthalf[0])})\n",
    "\n",
    "print(dirdict)\n",
    "\n",
    "total_size = 0\n",
    "for x in dirdict:\n",
    "    if dirdict[x] <= 100000:\n",
    "        total_size += dirdict[x]\n",
    "\n",
    "print(f'total_size = {total_size}')\n",
    "# 1324537 is too low\n"
   ]
  }
 ],
 "metadata": {
  "kernelspec": {
   "display_name": ".venv",
   "language": "python",
   "name": "python3"
  },
  "language_info": {
   "codemirror_mode": {
    "name": "ipython",
    "version": 3
   },
   "file_extension": ".py",
   "mimetype": "text/x-python",
   "name": "python",
   "nbconvert_exporter": "python",
   "pygments_lexer": "ipython3",
   "version": "3.10.12"
  }
 },
 "nbformat": 4,
 "nbformat_minor": 2
}
