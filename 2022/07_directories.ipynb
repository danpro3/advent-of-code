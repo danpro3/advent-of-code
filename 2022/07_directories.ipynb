{
 "cells": [
  {
   "cell_type": "code",
   "execution_count": 78,
   "metadata": {},
   "outputs": [
    {
     "name": "stdout",
     "output_type": "stream",
     "text": [
      "total_size = 1581595\n"
     ]
    }
   ],
   "source": [
    "# part 1\n",
    "import random\n",
    "# lines = open('inputs/input_07_test.txt','r').read().splitlines()\n",
    "lines = open('inputs/input_07.txt','r').read().splitlines()\n",
    "\n",
    "dirdict = dict() # directory dictionary. Key = directory name, value: sum of sizes\n",
    "activedirs = []\n",
    "\n",
    "for k,line in enumerate(lines):\n",
    "    # print(line)\n",
    "    firsthalf = line.split()  # in case this is a filesize value\n",
    "    # print(firsthalf)\n",
    "    if line[0:4] == '$ cd' and line != '$ cd ..':  # move into a directory\n",
    "        thisdir = line[5:]\n",
    "        # print(f'dir_name = {thisdir}')\n",
    "        # print(activedirs)\n",
    "        if thisdir != '/': # leave the root directory name alone, no numbers\n",
    "            thisdir = thisdir + '_' + str(random.randint(1000, 9999))\n",
    "        # print(thisdir)\n",
    "        dirdict[thisdir] = 0\n",
    "        activedirs.append(thisdir)\n",
    "    elif line == '$ cd ..':  # move out of a directory\n",
    "        # print(f'dir_name = {line[5:]}')\n",
    "        del activedirs[-1]\n",
    "        # print(activedirs)\n",
    "    elif firsthalf[0].isnumeric():    # tally up the file to all the active directories\n",
    "        for a in activedirs:\n",
    "            dirdict.update({a:dirdict[a]+int(firsthalf[0])})\n",
    "\n",
    "# print(dirdict)\n",
    "total_size = 0\n",
    "for x in dirdict:\n",
    "    if dirdict[x] <= 100000:\n",
    "        total_size += dirdict[x]\n",
    "\n",
    "print(f'total_size = {total_size}')\n",
    "\n"
   ]
  },
  {
   "cell_type": "code",
   "execution_count": 79,
   "metadata": {},
   "outputs": [
    {
     "name": "stdout",
     "output_type": "stream",
     "text": [
      "total used = 41518953, unused = 28481047\n",
      "need to free: 1518953\n",
      "min_acceptable = 1544176\n"
     ]
    }
   ],
   "source": [
    "# part 2 (continued)\n",
    "DISK_CAPACITY = 70000000\n",
    "PROGRAM_NEEDS = 30000000\n",
    "\n",
    "total_used = dirdict['/']\n",
    "total_unused = DISK_CAPACITY - total_used\n",
    "need_to_free = PROGRAM_NEEDS - total_unused\n",
    "print(f'total used = {total_used}, unused = {total_unused}')\n",
    "print(f'need to free: {need_to_free}')\n",
    "\n",
    "min_acceptable = PROGRAM_NEEDS # initialize\n",
    "for x in dirdict:\n",
    "    if dirdict[x] > need_to_free:\n",
    "        if dirdict[x] < min_acceptable:\n",
    "            min_acceptable = dirdict[x]\n",
    "\n",
    "print(f'min_acceptable = {min_acceptable}')\n"
   ]
  }
 ],
 "metadata": {
  "kernelspec": {
   "display_name": ".venv",
   "language": "python",
   "name": "python3"
  },
  "language_info": {
   "codemirror_mode": {
    "name": "ipython",
    "version": 3
   },
   "file_extension": ".py",
   "mimetype": "text/x-python",
   "name": "python",
   "nbconvert_exporter": "python",
   "pygments_lexer": "ipython3",
   "version": "3.10.12"
  }
 },
 "nbformat": 4,
 "nbformat_minor": 2
}
