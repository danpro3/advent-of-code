{
 "cells": [
  {
   "cell_type": "code",
   "execution_count": null,
   "metadata": {},
   "outputs": [
    {
     "name": "stdout",
     "output_type": "stream",
     "text": [
      "max calories is 68787 with elf #86\n"
     ]
    }
   ],
   "source": [
    "# part 1\n",
    "filestr = open('inputs/input_01.txt','r').read()\n",
    "elves = filestr.split('\\n\\n')\n",
    "for i,elf in enumerate(elves):\n",
    "    elves[i] = sum([int(x) for x in elf.split('\\n')])\n",
    "elf_num = elves.index(max(elves))\n",
    "print(f'max calories is {max(elves)} with elf #{1+elf_num}')\n",
    "# x = max([sum([int(x) for x in elf.split('\\n')]) for elf in elves])\n"
   ]
  },
  {
   "cell_type": "code",
   "execution_count": null,
   "metadata": {},
   "outputs": [
    {
     "name": "stdout",
     "output_type": "stream",
     "text": [
      "top 3 elves calories = [68787, 65169, 64085] with sum = 198041\n"
     ]
    }
   ],
   "source": [
    "# part 2\n",
    "filestr = open('inputs/input_01.txt','r').read()\n",
    "elves = filestr.split('\\n\\n')\n",
    "top = [0,0,0]\n",
    "for i,elf in enumerate(elves):\n",
    "    cals = sum([int(x) for x in elf.split('\\n')])\n",
    "    if cals > top[2]:\n",
    "        top[2] = cals\n",
    "    if top[2] > top[1]:\n",
    "        top[2] = top[1]\n",
    "        top[1] = cals\n",
    "    if top[1] > top[0]:\n",
    "        top[1] = top[0]\n",
    "        top[0] = cals\n",
    "\n",
    "print(f'top 3 elves calories = {top} with sum = {sum(top)}')\n",
    "\n"
   ]
  }
 ],
 "metadata": {
  "kernelspec": {
   "display_name": ".venv",
   "language": "python",
   "name": "python3"
  },
  "language_info": {
   "codemirror_mode": {
    "name": "ipython",
    "version": 3
   },
   "file_extension": ".py",
   "mimetype": "text/x-python",
   "name": "python",
   "nbconvert_exporter": "python",
   "pygments_lexer": "ipython3",
   "version": "3.10.12"
  }
 },
 "nbformat": 4,
 "nbformat_minor": 2
}
