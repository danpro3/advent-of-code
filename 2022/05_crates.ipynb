{
 "cells": [
  {
   "cell_type": "code",
   "execution_count": 51,
   "metadata": {},
   "outputs": [
    {
     "name": "stdout",
     "output_type": "stream",
     "text": [
      "[[], ['Z'], [], []]\n",
      "[[], ['Z', 'N'], [], []]\n",
      "[[], ['Z', 'N'], ['M'], []]\n",
      "[[], ['Z', 'N'], ['M', 'C'], []]\n",
      "[[], ['Z', 'N'], ['M', 'C', 'D'], []]\n",
      "[[], ['Z', 'N'], ['M', 'C', 'D'], ['P']]\n"
     ]
    }
   ],
   "source": [
    "# part 1\n",
    "# read in the crate pattern\n",
    "lines = open('inputs/input_05_test.txt','r').read().splitlines()\n",
    "# lines = open('inputs/input_05.txt','r').read().splitlines()\n",
    "\n",
    "NUM_STACKS = 3\n",
    "LABEL_LINE = 3\n",
    "starting_stack = 3\n",
    "stacks = [[] for x in range(NUM_STACKS+1)]\n",
    "for s in range(1,NUM_STACKS+1):\n",
    "    stack_idx = lines[LABEL_LINE].index(str(s))\n",
    "    # print(f'')\n",
    "    # print(f'{stack_idx}')\n",
    "    # print(stacks)\n",
    "    for k in range(LABEL_LINE-1,-1,-1):\n",
    "        # print(f'{lines[k][stack_idx]}')\n",
    "        if lines[k][stack_idx] != ' ':\n",
    "            stacks[s].append(lines[k][stack_idx])\n",
    "            print(stacks)\n",
    "\n",
    "\n"
   ]
  }
 ],
 "metadata": {
  "kernelspec": {
   "display_name": ".venv",
   "language": "python",
   "name": "python3"
  },
  "language_info": {
   "codemirror_mode": {
    "name": "ipython",
    "version": 3
   },
   "file_extension": ".py",
   "mimetype": "text/x-python",
   "name": "python",
   "nbconvert_exporter": "python",
   "pygments_lexer": "ipython3",
   "version": "3.10.12"
  }
 },
 "nbformat": 4,
 "nbformat_minor": 2
}
