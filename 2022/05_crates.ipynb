{
 "cells": [
  {
   "cell_type": "code",
   "execution_count": 19,
   "metadata": {},
   "outputs": [
    {
     "name": "stdout",
     "output_type": "stream",
     "text": [
      "toppers = TQRFCBSJJ\n"
     ]
    }
   ],
   "source": [
    "# part 1\n",
    "import re\n",
    "# lines = open('inputs/input_05_test.txt','r').read().splitlines()\n",
    "# NUM_STACKS = 3; LABEL_LINE = 3\n",
    "lines = open('inputs/input_05.txt','r').read().splitlines()\n",
    "NUM_STACKS = 9; LABEL_LINE = 8\n",
    "\n",
    "# read in the crate pattern\n",
    "starting_stack = 3\n",
    "stacks = [[] for x in range(NUM_STACKS+1)]\n",
    "for s in range(1,NUM_STACKS+1):\n",
    "    stack_idx = lines[LABEL_LINE].index(str(s))\n",
    "    for k in range(LABEL_LINE-1,-1,-1):\n",
    "        # print(f'{lines[k][stack_idx]}')\n",
    "        if lines[k][stack_idx] != ' ':\n",
    "            stacks[s].append(lines[k][stack_idx])\n",
    "# print(stacks)\n",
    "\n",
    "# loop thru the instructions\n",
    "for i in range(LABEL_LINE+2,len(lines)):\n",
    "    found = re.findall(r'\\d+',lines[i])\n",
    "    nblocks = int(found[0])\n",
    "    from_stack = int(found[1])\n",
    "    to_stack = int(found[2])\n",
    "    # print(f'{nblocks},{from_stack},{to_stack}')\n",
    "\n",
    "    for b in range(nblocks):\n",
    "        block = stacks[from_stack].pop()\n",
    "        stacks[to_stack].append(block)\n",
    "    \n",
    "# print(stacks)\n",
    "# Use the first stack to list all the toppers\n",
    "[stacks[0].append(stacks[x][-1]) for x in range(1,NUM_STACKS+1)]\n",
    "bigstring = ''.join(stacks[0])\n",
    "print(f'toppers = {bigstring}')\n",
    "\n"
   ]
  },
  {
   "cell_type": "code",
   "execution_count": 25,
   "metadata": {},
   "outputs": [
    {
     "name": "stdout",
     "output_type": "stream",
     "text": [
      "toppers = RMHFJNVFP\n"
     ]
    }
   ],
   "source": [
    "# part 2\n",
    "import re\n",
    "# lines = open('inputs/input_05_test.txt','r').read().splitlines()\n",
    "# NUM_STACKS = 3; LABEL_LINE = 3\n",
    "lines = open('inputs/input_05.txt','r').read().splitlines()\n",
    "NUM_STACKS = 9; LABEL_LINE = 8\n",
    "\n",
    "# read in the crate pattern\n",
    "starting_stack = 3\n",
    "stacks = [[] for x in range(NUM_STACKS+1)]\n",
    "for s in range(1,NUM_STACKS+1):\n",
    "    stack_idx = lines[LABEL_LINE].index(str(s))\n",
    "    for k in range(LABEL_LINE-1,-1,-1):\n",
    "        # print(f'{lines[k][stack_idx]}')\n",
    "        if lines[k][stack_idx] != ' ':\n",
    "            stacks[s].append(lines[k][stack_idx])\n",
    "# print(stacks)\n",
    "\n",
    "# loop thru the instructions\n",
    "for i in range(LABEL_LINE+2,len(lines)):\n",
    "    found = re.findall(r'\\d+',lines[i])\n",
    "    nblocks = int(found[0])\n",
    "    from_stack = int(found[1])\n",
    "    to_stack = int(found[2])\n",
    "    # print(f'{nblocks},{from_stack},{to_stack}')\n",
    "\n",
    "    blocks = stacks[from_stack][-nblocks:]\n",
    "    stacks[from_stack] = stacks[from_stack][0:len(stacks[from_stack])-nblocks]\n",
    "    stacks[to_stack] = stacks[to_stack] + blocks\n",
    "    \n",
    "    # print(stacks)\n",
    "# Use the first stack to list all the toppers\n",
    "[stacks[0].append(stacks[x][-1]) for x in range(1,NUM_STACKS+1)]\n",
    "bigstring = ''.join(stacks[0])\n",
    "print(f'toppers = {bigstring}')\n",
    "\n"
   ]
  }
 ],
 "metadata": {
  "kernelspec": {
   "display_name": ".venv",
   "language": "python",
   "name": "python3"
  },
  "language_info": {
   "codemirror_mode": {
    "name": "ipython",
    "version": 3
   },
   "file_extension": ".py",
   "mimetype": "text/x-python",
   "name": "python",
   "nbconvert_exporter": "python",
   "pygments_lexer": "ipython3",
   "version": "3.10.12"
  }
 },
 "nbformat": 4,
 "nbformat_minor": 2
}
