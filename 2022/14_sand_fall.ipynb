{
 "cells": [
  {
   "cell_type": "code",
   "execution_count": 98,
   "metadata": {},
   "outputs": [
    {
     "name": "stdout",
     "output_type": "stream",
     "text": [
      "..........\n",
      "..........\n",
      "..........\n",
      "..........\n",
      "....#...##\n",
      "....#...#.\n",
      "..###...#.\n",
      "........#.\n",
      "........#.\n",
      "#########.\n"
     ]
    },
    {
     "data": {
      "text/plain": [
       "[None, None, None, None, None, None, None, None, None, None]"
      ]
     },
     "execution_count": 98,
     "metadata": {},
     "output_type": "execute_result"
    }
   ],
   "source": [
    "# part 1\n",
    "import numpy as np\n",
    "import re\n",
    "filestr = open('inputs/input_14_test.txt','r').read()\n",
    "\n",
    "# read in the whole file and find the range\n",
    "locs = [int(x) for x in re.findall(r'-?\\d+', filestr)]\n",
    "xs = locs[::2]\n",
    "ys = locs[1::2]\n",
    "X0 = min(xs); X1 = max(xs)\n",
    "Y0 = min(ys); Y1 = max(ys)\n",
    "\n",
    "# build the paths\n",
    "gridlist = [['.' for _ in range(X1-X0+1)] for _ in range(Y1+1)]\n",
    "grid = np.array(gridlist)\n",
    "# [print(''.join(x)) for x in grid]\n",
    "# print(grid)\n",
    "\n",
    "lines = filestr.splitlines()\n",
    "for i, line in enumerate(lines):\n",
    "    coords = line.split(' -> ')\n",
    "    coords = [x.split(',') for x in coords]\n",
    "    # print(coords)\n",
    "    path = []\n",
    "    for k in range(len(coords)-1):\n",
    "        x0, y0 = int(coords[k][0]) - X0, int(coords[k][1])\n",
    "        x1, y1 = int(coords[k+1][0]) - X0, int(coords[k+1][1])\n",
    "        if x1 > x0:\n",
    "            grid[y0, x0:x1+1] = '#'\n",
    "        if x1 < x0:\n",
    "            grid[y0, x1:x0+1] = '#'\n",
    "        if y1 > y0:\n",
    "            grid[y0:y1+1, x0] = '#'\n",
    "        if y1 < y0:\n",
    "            grid[y0, y1:y0+1] = '#'\n",
    "        # print(grid)\n",
    "\n",
    "\n",
    "\n",
    "  \n",
    "[print(''.join(x)) for x in grid]\n"
   ]
  }
 ],
 "metadata": {
  "kernelspec": {
   "display_name": ".venv",
   "language": "python",
   "name": "python3"
  },
  "language_info": {
   "codemirror_mode": {
    "name": "ipython",
    "version": 3
   },
   "file_extension": ".py",
   "mimetype": "text/x-python",
   "name": "python",
   "nbconvert_exporter": "python",
   "pygments_lexer": "ipython3",
   "version": "3.10.12"
  }
 },
 "nbformat": 4,
 "nbformat_minor": 2
}
