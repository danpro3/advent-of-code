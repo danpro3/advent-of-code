{
 "cells": [
  {
   "cell_type": "code",
   "execution_count": 41,
   "metadata": {},
   "outputs": [
    {
     "name": "stdout",
     "output_type": "stream",
     "text": [
      "total priority = 7742\n"
     ]
    }
   ],
   "source": [
    "# part 1\n",
    "import re\n",
    "# lines = open('inputs/input_03_test.txt','r').read().splitlines()\n",
    "lines = open('inputs/input_03.txt','r').read().splitlines()\n",
    "alphabet = 'abcdefghijklmnopqrstuvwxyz'\n",
    "total_priority = 0\n",
    "for line in lines:\n",
    "    side1 = line[0:int((len(line)/2))]\n",
    "    side2 = line[int(len(line)/2):]\n",
    "    S1 = set(side1)\n",
    "    S2 = set(side2)\n",
    "    common = S1.intersection(S2).pop()\n",
    "    if common == common.lower():\n",
    "        priority = alphabet.index(common)+1\n",
    "    else:\n",
    "        priority = alphabet.upper().index(common)+27\n",
    "\n",
    "    total_priority += priority\n",
    "    # print(f'{line} side1 = {side1}, side2 = {side2} , in common: {common}, priority = {priority}')\n",
    "\n",
    "print(f'total priority = {total_priority}')\n"
   ]
  }
 ],
 "metadata": {
  "kernelspec": {
   "display_name": ".venv",
   "language": "python",
   "name": "python3"
  },
  "language_info": {
   "codemirror_mode": {
    "name": "ipython",
    "version": 3
   },
   "file_extension": ".py",
   "mimetype": "text/x-python",
   "name": "python",
   "nbconvert_exporter": "python",
   "pygments_lexer": "ipython3",
   "version": "3.10.12"
  }
 },
 "nbformat": 4,
 "nbformat_minor": 2
}
