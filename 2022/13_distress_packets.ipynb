{
 "cells": [
  {
   "cell_type": "code",
   "execution_count": 108,
   "metadata": {},
   "outputs": [
    {
     "name": "stdout",
     "output_type": "stream",
     "text": [
      "\n",
      "sum of indicies = 5905\n"
     ]
    }
   ],
   "source": [
    "# part 1\n",
    "import json\n",
    "\n",
    "def compare_elements(a,b):\n",
    "    if isinstance(a,int) and isinstance(b,int):\n",
    "        return b-a\n",
    "    if isinstance(a,int):\n",
    "        a = [a]\n",
    "    if isinstance(b,int):\n",
    "        b = [b]\n",
    "    \n",
    "    if len(a) < len(b):\n",
    "        shorterlength = len(a)\n",
    "    else:\n",
    "        shorterlength = len(b)\n",
    "    k = 0\n",
    "    # print(f'shorter length = {shorterlength}')\n",
    "    while k < shorterlength:\n",
    "        # print(f'k = {k}, a[k] = {a[k]}, b[k] = {b[k]}')\n",
    "        result = compare_elements(a[k],b[k])\n",
    "        if result != 0:\n",
    "            return result\n",
    "        # print(f'k = {k}, result = {result}')\n",
    "        k += 1\n",
    "    # if len(b) == len(a):\n",
    "    #     print(f'a,b = {a},{b}, {len(b) - len(a)}')\n",
    "    return len(b) - len(a)\n",
    "\n",
    "# lines = open('inputs/input_13_test.txt','r').read()\n",
    "lines = open('inputs/input_13.txt','r').read()\n",
    "\n",
    "pairs = lines.split('\\n\\n')\n",
    "sum_of_indicies = 0\n",
    "for i, pair in enumerate(pairs):\n",
    "    packets = pair.split('\\n')\n",
    "    A = json.loads(packets[0])\n",
    "    B = json.loads(packets[1])\n",
    "    # print(f'A = {A}, B = {B}')\n",
    "    result = compare_elements(A,B)\n",
    "    # print(f'                           i = {i}, result = {result}')\n",
    "    if result >= 0:\n",
    "        sum_of_indicies += i+1\n",
    "\n",
    "print(f'\\nsum of indicies = {sum_of_indicies}')"
   ]
  },
  {
   "cell_type": "code",
   "execution_count": 109,
   "metadata": {},
   "outputs": [
    {
     "name": "stdout",
     "output_type": "stream",
     "text": [
      "decoder key = 21691\n"
     ]
    }
   ],
   "source": [
    "# part 2\n",
    "import functools\n",
    "packets = []\n",
    "\n",
    "# setup the giant list of lists\n",
    "for i, pair in enumerate(pairs):\n",
    "    packet_pair = pair.split('\\n')\n",
    "    A = json.loads(packet_pair[0])\n",
    "    packets.append(A)\n",
    "    A = json.loads(packet_pair[1])\n",
    "    packets.append(A)\n",
    "\n",
    "# [print(x) for x in packets]\n",
    "\n",
    "# add the divider packets\n",
    "divider_1 = [[2]]\n",
    "divider_2 = [[6]]\n",
    "packets.append(divider_1)\n",
    "packets.append(divider_2)\n",
    "\n",
    "# print()\n",
    "# [print(x) for x in packets]\n",
    "\n",
    "# sort the list\n",
    "sorted_list = sorted(packets, reverse=True, key=functools.cmp_to_key(compare_elements))\n",
    "\n",
    "# print()\n",
    "# [print(x) for x in sorted_list]\n",
    "\n",
    "idx_1 = sorted_list.index(divider_1) + 1\n",
    "idx_2 = sorted_list.index(divider_2) + 1\n",
    "\n",
    "print(f'decoder key = {idx_1 * idx_2}')\n"
   ]
  }
 ],
 "metadata": {
  "kernelspec": {
   "display_name": ".venv",
   "language": "python",
   "name": "python3"
  },
  "language_info": {
   "codemirror_mode": {
    "name": "ipython",
    "version": 3
   },
   "file_extension": ".py",
   "mimetype": "text/x-python",
   "name": "python",
   "nbconvert_exporter": "python",
   "pygments_lexer": "ipython3",
   "version": "3.10.12"
  }
 },
 "nbformat": 4,
 "nbformat_minor": 2
}
