{
 "cells": [
  {
   "cell_type": "code",
   "execution_count": null,
   "metadata": {},
   "outputs": [
    {
     "name": "stdout",
     "output_type": "stream",
     "text": [
      "A = [1, 1, 3, 1, 1], B = [1, 1, 5, 1, 1]\n",
      "A = [[1], [2, 3, 4]], B = [[1], 4]\n",
      "A = [9], B = [[8, 7, 6]]\n",
      "A = [[4, 4], 4, 4], B = [[4, 4], 4, 4, 4]\n",
      "A = [7, 7, 7, 7], B = [7, 7, 7]\n",
      "A = [], B = [3]\n",
      "A = [[[]]], B = [[]]\n",
      "A = [1, [2, [3, [4, [5, 6, 7]]]], 8, 9], B = [1, [2, [3, [4, [5, 6, 0]]]], 8, 9]\n"
     ]
    }
   ],
   "source": [
    "# part 1\n",
    "import json\n",
    "\n",
    "def compare_elements(a,b):\n",
    "    if isinstance(a,int) and isinstance(a,int):\n",
    "        return b - a    \n",
    "    if isinstance(a,int):\n",
    "        a = [a]\n",
    "    if isinstance(b,int):\n",
    "        b = [b]\n",
    "    while\n",
    "\n",
    "\n",
    "lines = open('inputs/input_13_test.txt','r').read()\n",
    "# lines = open('inputs/input_13.txt','r').read()\n",
    "\n",
    "pairs = lines.split('\\n\\n')\n",
    "for i, pair in enumerate(pairs):\n",
    "    packets = pair.split('\\n')\n",
    "    A = json.loads(packets[0])\n",
    "    B = json.loads(packets[1])\n",
    "\n",
    "    print(f'A = {A}, B = {B}')\n"
   ]
  }
 ],
 "metadata": {
  "kernelspec": {
   "display_name": ".venv",
   "language": "python",
   "name": "python3"
  },
  "language_info": {
   "codemirror_mode": {
    "name": "ipython",
    "version": 3
   },
   "file_extension": ".py",
   "mimetype": "text/x-python",
   "name": "python",
   "nbconvert_exporter": "python",
   "pygments_lexer": "ipython3",
   "version": "3.10.12"
  }
 },
 "nbformat": 4,
 "nbformat_minor": 2
}
