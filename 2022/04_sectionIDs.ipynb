{
 "cells": [
  {
   "cell_type": "code",
   "execution_count": null,
   "metadata": {},
   "outputs": [
    {
     "name": "stdout",
     "output_type": "stream",
     "text": [
      "total overlappers = 562\n"
     ]
    }
   ],
   "source": [
    "# part 1\n",
    "# lines = open('inputs/input_04_test.txt','r').read().splitlines()\n",
    "lines = open('inputs/input_04.txt','r').read().splitlines()\n",
    "total_overlappers = 0\n",
    "for line in lines:\n",
    "    # print(f'{line}')\n",
    "    line = line.replace('-',',')\n",
    "    sections = line.split(',')\n",
    "    sections = [int(char) for char in sections]\n",
    "    # print(f'{sections}')\n",
    "    redundant = 0\n",
    "    if sections[0] <= sections[2] and sections[1] >= sections[3]: # 1st group is bigger\n",
    "        redundant = 1\n",
    "    if sections[2] <= sections[0] and sections[3] >= sections[1]: # 2nd group is bigger\n",
    "        redundant = 1\n",
    "\n",
    "    # print(f'{redundant}')\n",
    "    if redundant == 1:\n",
    "        total_overlappers += 1\n",
    "\n",
    "print(f'total overlappers = {total_overlappers}')\n",
    "\n"
   ]
  },
  {
   "cell_type": "code",
   "execution_count": null,
   "metadata": {},
   "outputs": [
    {
     "name": "stdout",
     "output_type": "stream",
     "text": [
      "total overlappers = 924\n"
     ]
    }
   ],
   "source": [
    "# part 2\n",
    "# lines = open('inputs/input_04_test.txt','r').read().splitlines()\n",
    "lines = open('inputs/input_04.txt','r').read().splitlines()\n",
    "total_overlappers = 0\n",
    "for line in lines:\n",
    "    # print(f'{line}')\n",
    "    line = line.replace('-',',')\n",
    "    sections = line.split(',')\n",
    "    sections = [int(char) for char in sections]\n",
    "    # print(f'{sections}')\n",
    "    redundant = 0\n",
    "    if sections[0] <= sections[2] and sections[1] >= sections[2]: # group 2 has something in group 1\n",
    "        redundant = 1\n",
    "    if sections[2] <= sections[0] and sections[3] >= sections[0]: # group 1 has something in group 2\n",
    "        redundant = 1\n",
    "\n",
    "    # print(f'{redundant}')\n",
    "    if redundant == 1:\n",
    "        total_overlappers += 1\n",
    "\n",
    "print(f'total overlappers = {total_overlappers}')\n"
   ]
  }
 ],
 "metadata": {
  "kernelspec": {
   "display_name": ".venv",
   "language": "python",
   "name": "python3"
  },
  "language_info": {
   "codemirror_mode": {
    "name": "ipython",
    "version": 3
   },
   "file_extension": ".py",
   "mimetype": "text/x-python",
   "name": "python",
   "nbconvert_exporter": "python",
   "pygments_lexer": "ipython3",
   "version": "3.10.12"
  }
 },
 "nbformat": 4,
 "nbformat_minor": 2
}
