{
 "cells": [
  {
   "cell_type": "code",
   "execution_count": 111,
   "metadata": {},
   "outputs": [
    {
     "name": "stdout",
     "output_type": "stream",
     "text": [
      "[20, 60, 100, 140, 180, 220]\n",
      "[21, 21, 20, 19, 19, 19]\n",
      "[420, 1260, 1700, 2940, 3780, 660]\n",
      "sum of the product groups = 10760\n"
     ]
    }
   ],
   "source": [
    "# part 1\n",
    "# \n",
    "# lines = open('inputs/input_10_test.txt','r').read().splitlines()\n",
    "lines = open('inputs/input_10.txt','r').read().splitlines()\n",
    "\n",
    "register = [1]\n",
    "for line in lines:\n",
    "    register.append(register[-1])\n",
    "    if line[0:4] != 'noop':\n",
    "        (_,V) = line.split(' ')\n",
    "        register.append(register[-1]+int(V))\n",
    "        \n",
    "# during the 20th cycle, is the same as AFTER the 19th cycle (counting from 0)\n",
    "desired_registers = [x for x in range(20,221,40)]\n",
    "prod_group = [register[x-1] * x for x in desired_registers]\n",
    "print([x for x in desired_registers])\n",
    "print([register[x] for x in desired_registers])\n",
    "print(prod_group)\n",
    "print(f'sum of the product groups = {sum(prod_group)}')\n"
   ]
  },
  {
   "cell_type": "code",
   "execution_count": 112,
   "metadata": {},
   "outputs": [
    {
     "name": "stdout",
     "output_type": "stream",
     "text": [
      "####.###...##..###..#..#.####..##..#..#.\n",
      "#....#..#.#..#.#..#.#..#.#....#..#.#..#.\n",
      "###..#..#.#....#..#.####.###..#....####.\n",
      "#....###..#.##.###..#..#.#....#.##.#..#.\n",
      "#....#....#..#.#....#..#.#....#..#.#..#.\n",
      "#....#.....###.#....#..#.#.....###.#..#.\n"
     ]
    }
   ],
   "source": [
    "# part 2 (continued)\n",
    "crt = [['.' for _ in range(40)] for _ in range(6)]\n",
    "def print_crt(crt):\n",
    "   [print(''.join(x)) for x in crt]  # print crt\n",
    "\n",
    "# print_crt(crt)\n",
    "i = 0\n",
    "for y in range(6):\n",
    "    for x in range(40):\n",
    "        # print(register[i-1])\n",
    "        i +=1\n",
    "        if abs(register[i-1] - x) <= 1:\n",
    "            crt[y][x] = '#'\n",
    "        # print(f'during cycle: i = {i}, x = {x}, y = {y}, register[i-1] = {register[i-1]}, crt[y][x] = {crt[y][x]}')\n",
    "\n",
    "print_crt(crt)"
   ]
  }
 ],
 "metadata": {
  "kernelspec": {
   "display_name": ".venv",
   "language": "python",
   "name": "python3"
  },
  "language_info": {
   "codemirror_mode": {
    "name": "ipython",
    "version": 3
   },
   "file_extension": ".py",
   "mimetype": "text/x-python",
   "name": "python",
   "nbconvert_exporter": "python",
   "pygments_lexer": "ipython3",
   "version": "3.10.12"
  }
 },
 "nbformat": 4,
 "nbformat_minor": 2
}
