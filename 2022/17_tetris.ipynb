{
 "cells": [
  {
   "cell_type": "code",
   "execution_count": 2,
   "metadata": {},
   "outputs": [
    {
     "name": "stdout",
     "output_type": "stream",
     "text": [
      "length = 40, filestr = >>><<><>><<<>><>>><<...\n"
     ]
    }
   ],
   "source": [
    "# part 1 \n",
    "filestr = open('inputs/input_17_test.txt','r').read()\n",
    "# filestr = open('inputs/input_17.txt','r').read()\n",
    "num_instr = len(filestr)\n",
    "print(f'length = {num_instr}, filestr = {filestr[0:20]}...')\n"
   ]
  },
  {
   "cell_type": "code",
   "execution_count": null,
   "metadata": {},
   "outputs": [
    {
     "name": "stdout",
     "output_type": "stream",
     "text": [
      "rocks dropped = 1000, height of tower = 1520, used instr = 5707, height/cyce = 7.595\n",
      "rocks dropped = 2000, height of tower = 3034, used instr = 11420, height/cyce = 7.5825\n",
      "rocks dropped = 3000, height of tower = 4548, used instr = 17134, height/cyce = 7.578333333333333\n",
      "rocks dropped = 4000, height of tower = 6061, used instr = 22849, height/cyce = 7.574999999999999\n",
      "rocks dropped = 5000, height of tower = 7577, used instr = 28564, height/cyce = 7.5760000000000005\n",
      "rocks dropped = 6000, height of tower = 9088, used instr = 34281, height/cyce = 7.5725\n",
      "rocks dropped = 7000, height of tower = 10607, used instr = 39993, height/cyce = 7.575714285714286\n",
      "rocks dropped = 8000, height of tower = 12120, used instr = 45707, height/cyce = 7.574375\n",
      "height of tower = 12254\n"
     ]
    }
   ],
   "source": [
    "# part 1\n",
    "import numpy as np\n",
    "\n",
    "def print_pile():\n",
    "    max_row = find_max(pile)\n",
    "    max_falling = find_max(falling_rock)\n",
    "    grid = [['.' for x in range(7)] for _ in range(max(max_row,max_falling)+1)]\n",
    "    for r,c in pile:\n",
    "        grid[r][c] = '#'\n",
    "    if len(falling_rock) > 0:\n",
    "        for r,c in falling_rock:\n",
    "            grid[r][c] = '@'\n",
    "    [print(''.join(i)) for i in grid[::-1]]\n",
    "    print()\n",
    "\n",
    "def add_rock(cnt, max_row):\n",
    "    falling_rock = set()\n",
    "    for r,c in rocks[cnt % num_rocks]:\n",
    "        falling_rock.add((r+max_row+4,c+2))\n",
    "    return falling_rock\n",
    "\n",
    "def find_max(what):\n",
    "    if len(what) == 0:\n",
    "        return 0\n",
    "    r,_ = zip(*what)\n",
    "    return max(r)\n",
    "\n",
    "def move_rock(dir, falling_rock):\n",
    "    new_position = set()\n",
    "    if dir == 'D':\n",
    "        for r,c in falling_rock:\n",
    "            new_position.add((r-1, c))\n",
    "        r,_ = zip(*new_position)\n",
    "        if -1 in r:\n",
    "            return False, falling_rock # hit the floor\n",
    "    else:\n",
    "        for r,c in falling_rock:\n",
    "            new_position.add((r, c + LR[dir]))\n",
    "        _,c = zip(*new_position)\n",
    "        if -1 in c or 7 in c:\n",
    "            return False, falling_rock # hit the wall\n",
    "    if new_position.intersection(pile):\n",
    "        return False, falling_rock\n",
    "    else:\n",
    "        return True, new_position\n",
    "\n",
    "# main\n",
    "rocks = {}  # coords are (row, col)\n",
    "rocks[0] = (0,0),(0,1),(0,2),(0,3) # shape = minus\n",
    "rocks[1] = (0,1),(1,0),(1,1),(1,2),(2,1) # shape = plus\n",
    "rocks[2] = (0,0),(0,1),(0,2),(1,2),(2,2) # shape = backwards L\n",
    "rocks[3] = (0,0),(1,0),(2,0),(3,0) # shape = vertical bar\n",
    "rocks[4] = (0,0),(0,1),(1,0),(1,1) # shape = cube\n",
    "num_rocks = len(rocks)\n",
    "\n",
    "LR = {'<':-1, '>':1}  # mapping of direction to column move\n",
    "\n",
    "max_row = -1\n",
    "pile = set() # the collection of all rocks pile\n",
    "falling_rock = set()\n",
    "\n",
    "instr_cnt = 0\n",
    "rock_cnt = 0\n",
    "while rock_cnt < 2022*4:  # loop on each new rock\n",
    "    # if rock_cnt % 1000 == 0:\n",
    "    #     print(f'rock # {rock_cnt}')\n",
    "    falling_rock = add_rock(rock_cnt, max_row)\n",
    "    # print_pile()\n",
    "    cnt = 0\n",
    "    did_move = True\n",
    "    while did_move:\n",
    "        \n",
    "        # print(f'move: {filestr[instr_cnt % num_instr]}')\n",
    "        did_move, falling_rock = move_rock(filestr[instr_cnt % num_instr],falling_rock)\n",
    "        instr_cnt += 1\n",
    "\n",
    "        did_move, falling_rock = move_rock('D',falling_rock)\n",
    "        if not did_move:\n",
    "            continue\n",
    "\n",
    "    # the rock has stopped, add it in\n",
    "    while len(falling_rock) > 0:\n",
    "        r,c = falling_rock.pop()\n",
    "        pile.add((r,c))\n",
    "    # print_pile()\n",
    "\n",
    "    max_row = find_max(pile)\n",
    "    rock_cnt += 1\n",
    "    if rock_cnt % 5 >= 0 and instr_cnt % num_instr == 0: # finished a rock cycle\n",
    "        print(f'rocks dropped = {rock_cnt}, height of tower = {max_row+1}, used instr = {instr_cnt-1}, height/cyce = {(max_row)/rock_cnt*5}')\n",
    "    if instr_cnt % num_instr == 0: # finished an instruction cycle\n",
    "        print(f'instr cycle finished. rocks dropped = {rock_cnt}, height of tower = {max_row+1}, used instr = {instr_cnt-1}, height/cyce = {(max_row)/rock_cnt*5}')\n",
    "    if rock_cnt % 1000 == 0:\n",
    "        print(f'rocks dropped = {rock_cnt}, height of tower = {max_row+1}, used instr = {instr_cnt-1}, height/cyce = {(max_row)/rock_cnt*5}')\n",
    "\n",
    "print(f'height of tower = {max_row+1}')\n",
    "\n",
    "# print_pile()\n",
    "\n",
    "# part 1: 2022 rocks, 4.8 sec, tower height = 3065\n"
   ]
  },
  {
   "cell_type": "code",
   "execution_count": 5,
   "metadata": {},
   "outputs": [
    {
     "name": "stdout",
     "output_type": "stream",
     "text": [
      "157.0\n",
      "40\n",
      "185.5\n"
     ]
    }
   ],
   "source": [
    "LOTS_OF_ROCKS = 1000000000000\n",
    "# 40 instructions and 5 rocks = 200 rock cycle --> 308 tower height\n",
    "LOTS_OF_ROCKS / 200 * 308\n",
    "print(100/5*8.1-5)\n",
    "print(num_instr)\n",
    "print(7420/40)\n"
   ]
  }
 ],
 "metadata": {
  "kernelspec": {
   "display_name": ".venv",
   "language": "python",
   "name": "python3"
  },
  "language_info": {
   "codemirror_mode": {
    "name": "ipython",
    "version": 3
   },
   "file_extension": ".py",
   "mimetype": "text/x-python",
   "name": "python",
   "nbconvert_exporter": "python",
   "pygments_lexer": "ipython3",
   "version": "3.10.12"
  }
 },
 "nbformat": 4,
 "nbformat_minor": 2
}
