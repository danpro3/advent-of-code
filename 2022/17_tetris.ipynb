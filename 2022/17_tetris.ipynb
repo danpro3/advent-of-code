{
 "cells": [
  {
   "cell_type": "code",
   "execution_count": 94,
   "metadata": {},
   "outputs": [
    {
     "name": "stdout",
     "output_type": "stream",
     "text": [
      ".......\n",
      ".......\n",
      ".......\n",
      ".......\n",
      ".......\n",
      ".......\n",
      ".......\n",
      ".......\n",
      "....#..\n",
      "...###.\n",
      "....#..\n",
      ".......\n",
      "\n",
      "[['.' '.' '.' '.' '.' '.' '.']\n",
      " ['.' '.' '.' '.' '#' '.' '.']\n",
      " ['.' '.' '.' '#' '#' '#' '.']\n",
      " ['.' '.' '.' '.' '#' '.' '.']\n",
      " ['.' '.' '.' '.' '.' '.' '.']\n",
      " ['.' '.' '.' '.' '.' '.' '.']\n",
      " ['.' '.' '.' '.' '.' '.' '.']\n",
      " ['.' '.' '.' '.' '.' '.' '.']\n",
      " ['.' '.' '.' '.' '.' '.' '.']\n",
      " ['.' '.' '.' '.' '.' '.' '.']\n",
      " ['.' '.' '.' '.' '.' '.' '.']\n",
      " ['.' '.' '.' '.' '.' '.' '.']]\n",
      "\n",
      "[['.' '.' '.' '.' '.' '.' '.' '.' '.' '.' '.' '.']\n",
      " ['.' '.' '.' '.' '.' '.' '.' '.' '.' '.' '.' '.']\n",
      " ['.' '.' '.' '.' '.' '.' '.' '.' '.' '.' '.' '.']\n",
      " ['.' '.' '#' '.' '.' '.' '.' '.' '.' '.' '.' '.']\n",
      " ['.' '#' '#' '#' '.' '.' '.' '.' '.' '.' '.' '.']\n",
      " ['.' '.' '#' '.' '.' '.' '.' '.' '.' '.' '.' '.']\n",
      " ['.' '.' '.' '.' '.' '.' '.' '.' '.' '.' '.' '.']]\n"
     ]
    }
   ],
   "source": [
    "# part 1\n",
    "import numpy as np\n",
    "\n",
    "def print_grid():\n",
    "    [print(''.join(x)) for x in np.flip(grid,axis=0)]\n",
    "\n",
    "rocks = {}  # coords are (row, col)\n",
    "rocks[0] = (0,0),(0,1),(0,2),(0,3) # shape = minus\n",
    "rocks[1] = (0,1),(1,0),(1,1),(1,2),(2,1) # shape = plus\n",
    "rocks[2] = (0,0),(0,1),(0,2),(1,2),(2,2) # shape = backwards L\n",
    "rocks[3] = ((0,0),(1,0),(2,0),(3,0)) # shape = vertical bar\n",
    "rocks[4] = ((0,0),(0,1),(0,1),(1,1)) # shape = cube\n",
    "\n",
    "grid = np.array([['.' for x in range(7)] for _ in range(12)])\n",
    "# grid[2,1] = '#'\n",
    "# grid[4,10] = '#'\n",
    "# for x,y in rocks[1]:\n",
    "#     grid[x,y] = '#'\n",
    "\n",
    "for x,y in rocks[1]:\n",
    "    grid[x+1,y+3] = '#'\n",
    "# [grid[x,y] = '@' for x,y in zip(rocks[2])]\n",
    "# [grid[x,y] == '@' for x,y in zip(rocks[2][0], rocks[2][1])]\n",
    "\n",
    "# [grid[rocks[1][x[a]]x[b]] = '#' for a in rock[1]]\n",
    "print_grid()\n",
    "print()\n",
    "print(grid)\n",
    "print()\n",
    "print(grid.transpose())\n",
    "\n",
    "# lines = open('inputs/input_16_test.txt','r').read()\n",
    "# lines = open('inputs/input_16.txt','r').read()"
   ]
  },
  {
   "cell_type": "code",
   "execution_count": 86,
   "metadata": {},
   "outputs": [
    {
     "name": "stdout",
     "output_type": "stream",
     "text": [
      "0 0\n",
      "1 0\n",
      "2 0\n",
      "2 1\n",
      "2 2\n"
     ]
    },
    {
     "data": {
      "text/plain": [
       "[None, None, None, None, None]"
      ]
     },
     "execution_count": 86,
     "metadata": {},
     "output_type": "execute_result"
    }
   ],
   "source": [
    "[print(x,y) for x,y in zip(rocks[2][0], rocks[2][1])]\n"
   ]
  }
 ],
 "metadata": {
  "kernelspec": {
   "display_name": ".venv",
   "language": "python",
   "name": "python3"
  },
  "language_info": {
   "codemirror_mode": {
    "name": "ipython",
    "version": 3
   },
   "file_extension": ".py",
   "mimetype": "text/x-python",
   "name": "python",
   "nbconvert_exporter": "python",
   "pygments_lexer": "ipython3",
   "version": "3.10.12"
  }
 },
 "nbformat": 4,
 "nbformat_minor": 2
}
