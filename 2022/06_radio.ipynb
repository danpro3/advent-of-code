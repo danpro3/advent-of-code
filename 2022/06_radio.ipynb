{
 "cells": [
  {
   "cell_type": "code",
   "execution_count": null,
   "metadata": {},
   "outputs": [
    {
     "name": "stdout",
     "output_type": "stream",
     "text": [
      "hrjd\n",
      "4 unique characters after character: 1042\n"
     ]
    }
   ],
   "source": [
    "# part 1\n",
    "# lines = open('inputs/input_06_test.txt','r').read().splitlines()\n",
    "# filestr = lines[1]\n",
    "filestr = open('inputs/input_06.txt','r').read()\n",
    "\n",
    "k = 0\n",
    "while len(set(filestr[k:k+4])) < 4:\n",
    "    # print(filestr[k:k+4])\n",
    "    k += 1\n",
    "\n",
    "print(filestr[k:k+4])\n",
    "print(f'4 unique characters after character: {k+4}')\n"
   ]
  },
  {
   "cell_type": "code",
   "execution_count": 10,
   "metadata": {},
   "outputs": [
    {
     "name": "stdout",
     "output_type": "stream",
     "text": [
      "fzbmvjlsrdcgnw\n",
      "14 unique characters after character: 2980\n"
     ]
    }
   ],
   "source": [
    "# part 2\n",
    "# lines = open('inputs/input_06_test.txt','r').read().splitlines()\n",
    "# filestr = lines[1]\n",
    "filestr = open('inputs/input_06.txt','r').read()\n",
    "\n",
    "k = 0\n",
    "while len(set(filestr[k:k+14])) < 14:\n",
    "    k += 1\n",
    "\n",
    "print(filestr[k:k+14])\n",
    "print(f'14 unique characters after character: {k+14}')\n"
   ]
  }
 ],
 "metadata": {
  "kernelspec": {
   "display_name": ".venv",
   "language": "python",
   "name": "python3"
  },
  "language_info": {
   "codemirror_mode": {
    "name": "ipython",
    "version": 3
   },
   "file_extension": ".py",
   "mimetype": "text/x-python",
   "name": "python",
   "nbconvert_exporter": "python",
   "pygments_lexer": "ipython3",
   "version": "3.10.12"
  }
 },
 "nbformat": 4,
 "nbformat_minor": 2
}
