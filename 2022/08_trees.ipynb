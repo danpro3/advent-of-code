{
 "cells": [
  {
   "cell_type": "code",
   "execution_count": null,
   "metadata": {},
   "outputs": [
    {
     "name": "stdout",
     "output_type": "stream",
     "text": [
      "sum of visible trees = 1669\n"
     ]
    }
   ],
   "source": [
    "# part 1\n",
    "import numpy as np\n",
    "\n",
    "# lines = open('inputs/input_08_test.txt','r').read().splitlines()\n",
    "lines = open('inputs/input_08.txt','r').read().splitlines()\n",
    "\n",
    "X = len(lines)\n",
    "Y = len(lines[0])\n",
    "\n",
    "forest = []\n",
    "for i,line in enumerate(lines):\n",
    "    forest.append([int(x) for x in list(line)])\n",
    "forest = np.array(forest)\n",
    "# print(forest)\n",
    "\n",
    "# check visibility along 1 direction\n",
    "def check_visibiliy(row_of_trees):\n",
    "    visiblelist = 0*row_of_trees\n",
    "    visiblelist[0] = 1\n",
    "    tallest = row_of_trees[0]\n",
    "    for i in range(1,len(row_of_trees)):\n",
    "        if row_of_trees[i] > tallest:\n",
    "            visiblelist[i] = 1\n",
    "            tallest = row_of_trees[i]\n",
    "    return visiblelist\n",
    "\n",
    "# look in each direction\n",
    "visibility = np.zeros((X, Y, 4), dtype='int')\n",
    "\n",
    "# look north\n",
    "for i in range(Y):\n",
    "    row_of_trees = forest[:,i]\n",
    "    visiblelist = check_visibiliy(row_of_trees)\n",
    "    visibility[:,i,0] = visiblelist\n",
    "# print('visibility looking North = ')\n",
    "# print(visibility[:,:,0])\n",
    "\n",
    "# look East\n",
    "for i in range(X):\n",
    "    row_of_trees = forest[i,::-1]\n",
    "    visiblelist = check_visibiliy(row_of_trees)\n",
    "    visibility[i,::-1,1] = visiblelist\n",
    "# print('visibility looking East = ')\n",
    "# print(visibility[:,:,1])\n",
    "\n",
    "# Look South\n",
    "for i in range(Y):\n",
    "    row_of_trees = forest[::-1,i]\n",
    "    visiblelist = check_visibiliy(row_of_trees)\n",
    "    visibility[::-1,i,2] = visiblelist\n",
    "# print('visibility looking South = ')\n",
    "# print(visibility[:,:,2])\n",
    "\n",
    "# Look West\n",
    "for i in range(X):\n",
    "    row_of_trees = forest[i,:]\n",
    "    visiblelist = check_visibiliy(row_of_trees)\n",
    "    visibility[i,:,3] = visiblelist\n",
    "# print('visibility looking West = ')\n",
    "# print(visibility[:,:,3])\n",
    "\n",
    "visible_trees = np.zeros((X, Y), dtype='int')\n",
    "for x in range(X):\n",
    "    for y in range(Y):\n",
    "        if any(visibility[x,y,:] == 1):\n",
    "            visible_trees[x,y] = 1\n",
    "\n",
    "# print('visible trees = ')\n",
    "# print(visible_trees)\n",
    "\n",
    "print(f'sum of visible trees = {visible_trees.sum()}')\n",
    "\n"
   ]
  }
 ],
 "metadata": {
  "kernelspec": {
   "display_name": ".venv",
   "language": "python",
   "name": "python3"
  },
  "language_info": {
   "codemirror_mode": {
    "name": "ipython",
    "version": 3
   },
   "file_extension": ".py",
   "mimetype": "text/x-python",
   "name": "python",
   "nbconvert_exporter": "python",
   "pygments_lexer": "ipython3",
   "version": "3.10.12"
  }
 },
 "nbformat": 4,
 "nbformat_minor": 2
}
