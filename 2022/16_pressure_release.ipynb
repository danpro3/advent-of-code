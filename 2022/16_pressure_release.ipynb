{
 "cells": [
  {
   "cell_type": "code",
   "execution_count": 1,
   "metadata": {},
   "outputs": [
    {
     "name": "stdout",
     "output_type": "stream",
     "text": [
      "AA (0, ['DD', 'II', 'BB'])\n",
      "BB (13, ['CC', 'AA'])\n",
      "CC (2, ['DD', 'BB'])\n",
      "DD (20, ['CC', 'AA', 'EE'])\n",
      "EE (3, ['FF', 'DD'])\n",
      "FF (0, ['EE', 'GG'])\n",
      "GG (0, ['FF', 'HH'])\n",
      "HH (22, ['GG'])\n",
      "II (0, ['AA', 'JJ'])\n",
      "JJ (21, ['II'])\n"
     ]
    }
   ],
   "source": [
    "# part 1 and 2\n",
    "import re\n",
    "from heapq import heapify, heappush, heappop\n",
    "\n",
    "lines = open('inputs/input_16_test.txt','r').read().splitlines()\n",
    "# lines = open('inputs/input_16.txt','r').read().splitlines()\n",
    "\n",
    "valves = {}\n",
    "for line in lines:\n",
    "    doubles = [x for x in re.findall(r'([A-Z]{2})', line)]\n",
    "    a = re.search(r'\\d+', line) # find integer \n",
    "    flow = int(a.group(0))\n",
    "    valves[doubles[0]] = flow,doubles[1:]\n",
    "\n",
    "_ = [print(x,valves[x]) for x in valves]\n"
   ]
  },
  {
   "cell_type": "code",
   "execution_count": null,
   "metadata": {},
   "outputs": [
    {
     "name": "stdout",
     "output_type": "stream",
     "text": [
      "{'SY': (23, ['CS']), 'VG': (15, ['XZ', 'FT', 'PF', 'TF', 'LG']), 'LQ': (0, ['YI', 'PW']), 'ON': (0, ['AA', 'KC']), 'EX': (0, ['GC', 'CB']), 'JV': (0, ['XI', 'QT']), 'UU': (0, ['YI', 'CB']), 'JS': (8, ['WE', 'JN', 'YN', 'KC', 'WC']), 'WE': (0, ['YI', 'JS']), 'YN': (0, ['JS', 'PW']), 'LG': (0, ['BO', 'VG']), 'GE': (0, ['AA', 'HU']), 'AA': (0, ['VP', 'ON', 'PC', 'GE', 'YO']), 'GC': (20, ['DG', 'ZK', 'WC', 'KF', 'EX']), 'QO': (12, ['YA', 'TF', 'BV']), 'JN': (0, ['JS', 'ZX']), 'WO': (0, ['ZW', 'XI']), 'YO': (0, ['AA', 'AY']), 'TF': (0, ['VG', 'QO']), 'PF': (0, ['BY', 'VG']), 'DO': (0, ['KF', 'AY']), 'FG': (0, ['AY', 'PW']), 'VR': (24, ['IC', 'CH']), 'CH': (0, ['VR', 'NW']), 'CB': (9, ['QZ', 'BP', 'UU', 'JW', 'EX']), 'YA': (0, ['QO', 'RT']), 'KF': (0, ['DO', 'GC']), 'DP': (0, ['QT', 'ZK']), 'YI': (3, ['PC', 'CY', 'WE', 'LQ', 'UU']), 'HU': (0, ['PW', 'GE']), 'PC': (0, ['AA', 'YI']), 'FT': (0, ['XI', 'VG']), 'AY': (19, ['ZX', 'CY', 'FG', 'DO', 'YO']), 'RT': (21, ['YA', 'BO']), 'ZK': (0, ['GC', 'DP']), 'PW': (6, ['YN', 'FG', 'BP', 'LQ', 'HU']), 'ZW': (14, ['BY', 'WO']), 'BP': (0, ['CB', 'PW']), 'ZX': (0, ['JN', 'AY']), 'IC': (0, ['QZ', 'VR']), 'BV': (0, ['QO', 'XI']), 'VP': (0, ['JW', 'AA']), 'DG': (0, ['GC', 'WT']), 'QT': (13, ['XZ', 'DP', 'JV']), 'BO': (0, ['LG', 'RT']), 'NW': (0, ['CH', 'WT']), 'CS': (0, ['HS', 'SY']), 'WC': (0, ['GC', 'JS']), 'QZ': (0, ['IC', 'CB']), 'WT': (25, ['DG', 'NW', 'HS']), 'HS': (0, ['WT', 'CS']), 'XI': (10, ['FT', 'JV', 'WO', 'BV']), 'KC': (0, ['JS', 'ON']), 'JW': (0, ['VP', 'CB']), 'XZ': (0, ['VG', 'QT']), 'CY': (0, ['AY', 'YI']), 'BY': (0, ['ZW', 'PF'])}\n",
      "Best so far: (-513, 3, 'AY', ('AY',))\n",
      "Best so far: (-657, 6, 'PW', ('AY', 'PW'))\n",
      "Best so far: (-846, 9, 'CB', ('AY', 'PW', 'CB'))\n",
      "Best so far: (-1206, 12, 'GC', ('AY', 'PW', 'CB', 'GC'))\n",
      "Best so far: (-1326, 15, 'JS', ('AY', 'PW', 'CB', 'GC', 'JS'))\n",
      "Best so far: (-1362, 18, 'YI', ('AY', 'PW', 'CB', 'GC', 'JS', 'YI'))\n",
      "Best so far: (-1506, 24, 'VR', ('AY', 'PW', 'CB', 'GC', 'JS', 'YI', 'VR'))\n",
      "Best so far: (-1556, 28, 'WT', ('AY', 'PW', 'CB', 'GC', 'JS', 'YI', 'VR', 'WT'))\n",
      "Best so far: (-1576, 20, 'WT', ('AY', 'PW', 'CB', 'GC', 'JS', 'WT'))\n",
      "Best so far: (-1714, 24, 'SY', ('AY', 'PW', 'CB', 'GC', 'JS', 'WT', 'SY'))\n",
      "Best so far: (-1720, 24, 'VR', ('AY', 'PW', 'CB', 'GC', 'JS', 'WT', 'VR'))\n",
      "Best so far: (-1834, 19, 'SY', ('AY', 'PW', 'CB', 'GC', 'WT', 'SY'))\n",
      "Best so far: (-1930, 26, 'VR', ('AY', 'PW', 'CB', 'GC', 'WT', 'SY', 'VR'))\n",
      "Best so far: (-1937, 26, 'SY', ('AY', 'PW', 'CB', 'GC', 'WT', 'VR', 'SY'))\n",
      "Best so far: (-2021, 22, 'SY', ('AY', 'GC', 'CB', 'VR', 'WT', 'SY'))\n",
      "Best so far: (-2057, 21, 'VR', ('AY', 'GC', 'WT', 'SY', 'VR'))\n",
      "Best so far: (-2102, 25, 'CB', ('AY', 'GC', 'WT', 'SY', 'VR', 'CB'))\n",
      "Best so far: (-2114, 28, 'PW', ('AY', 'GC', 'WT', 'SY', 'VR', 'CB', 'PW'))\n",
      "cnt = 10000000, current pop = (-896, 28, 'HS', ('GC', 'XI', 'SY', 'WT'))\n",
      "cnt = 12171829, current pop = (0, 14, 'YA', ())\n"
     ]
    }
   ],
   "source": [
    "# part 1\n",
    "def move(dP, clock, loc, openset):\n",
    "    for newloc in valves[loc][1]:\n",
    "        heappush(todo,(dP, clock, newloc, openset))\n",
    "                \n",
    "def openvalve(dP, clock, loc, openset):\n",
    "    if loc not in openset:\n",
    "        dP -= valves[loc][0]*(30-clock)\n",
    "        heappush(todo, (dP, clock, loc, (*openset,loc)))\n",
    "\n",
    "print(valves)\n",
    "# completed = [] # heap of completed states\n",
    "dP_biggest_drop = 0\n",
    "visited = {}  # dictionary of cache of visited, key: loc,openset, value: clock\n",
    "todo = [(0,0,'AA',())]  # starting state\n",
    "clock = 0\n",
    "cnt = 0\n",
    "while todo != []:\n",
    "    cnt += 1\n",
    "    dP, clock, loc, openset = heappop(todo)\n",
    "    if cnt % 1e7 == 0:\n",
    "        print(f'cnt = {cnt}, current pop = {dP, clock, loc, openset}')\n",
    "    if (loc,openset) in visited and clock > visited[(loc,openset)]:\n",
    "        continue # move on to next pop\n",
    "    if dP < dP_biggest_drop:\n",
    "        dP_biggest_drop = dP\n",
    "        print(f'Best so far: {dP, clock, loc, openset}')\n",
    "    visited[(loc,openset)] = clock\n",
    "    clock += 1\n",
    "    if clock <= 29:\n",
    "        if valves[loc][0] > 0:\n",
    "            openvalve(dP, clock, loc, openset)\n",
    "        move(dP, clock, loc, openset)\n",
    "\n",
    "print(f'cnt = {cnt}, current pop = {dP, clock, loc, openset}')\n",
    "# test case: Best so far: (-1651, 24, 'CC', ('DD', 'BB', 'JJ', 'HH', 'EE', 'CC'))\n"
   ]
  },
  {
   "cell_type": "code",
   "execution_count": 3,
   "metadata": {},
   "outputs": [
    {
     "name": "stdout",
     "output_type": "stream",
     "text": [
      "{'AA': (0, ['DD', 'II', 'BB']), 'BB': (13, ['CC', 'AA']), 'CC': (2, ['DD', 'BB']), 'DD': (20, ['CC', 'AA', 'EE']), 'EE': (3, ['FF', 'DD']), 'FF': (0, ['EE', 'GG']), 'GG': (0, ['FF', 'HH']), 'HH': (22, ['GG']), 'II': (0, ['AA', 'JJ']), 'JJ': (21, ['II'])}\n",
      "Best so far: (-792, 2, ('AA', 'CC'), ('DD', 'BB'))\n",
      "Best so far: (-838, 3, ('BB', 'DD'), ('DD', 'BB', 'CC'))\n",
      "Best so far: (-901, 5, ('BB', 'DD'), ('DD', 'BB', 'CC', 'EE'))\n",
      "Best so far: (-1300, 7, ('II', 'BB'), ('DD', 'BB', 'CC', 'EE', 'JJ'))\n",
      "Best so far: (-1652, 10, ('AA', 'GG'), ('DD', 'BB', 'CC', 'EE', 'JJ', 'HH'))\n",
      "Best so far: (-1696, 8, ('AA', 'GG'), ('DD', 'BB', 'CC', 'EE', 'JJ', 'HH'))\n",
      "Best so far: (-1738, 8, ('AA', 'GG'), ('DD', 'BB', 'CC', 'EE', 'JJ', 'HH'))\n",
      "cnt = 10000000, current pop = (-1255, 11, ('BB', 'HH'), ('DD', 'BB', 'EE', 'CC', 'HH'))\n",
      "Best so far: (-1742, 6, ('AA', 'GG'), ('DD', 'BB', 'EE', 'JJ', 'HH'))\n",
      "Best so far: (-1776, 9, ('BB', 'DD'), ('DD', 'BB', 'EE', 'JJ', 'HH', 'CC'))\n",
      "cnt = 20000000, current pop = (-1335, 11, ('BB', 'BB'), ('DD', 'BB', 'EE', 'HH', 'CC'))\n",
      "cnt = 30000000, current pop = (-1169, 11, ('FF', 'II'), ('DD', 'CC', 'BB', 'JJ'))\n"
     ]
    },
    {
     "ename": "KeyboardInterrupt",
     "evalue": "",
     "output_type": "error",
     "traceback": [
      "\u001b[0;31m---------------------------------------------------------------------------\u001b[0m",
      "\u001b[0;31mKeyboardInterrupt\u001b[0m                         Traceback (most recent call last)",
      "Cell \u001b[0;32mIn[3], line 40\u001b[0m\n\u001b[1;32m     38\u001b[0m \u001b[38;5;28;01mwhile\u001b[39;00m todo \u001b[38;5;241m!=\u001b[39m []:\n\u001b[1;32m     39\u001b[0m     cnt \u001b[38;5;241m+\u001b[39m\u001b[38;5;241m=\u001b[39m \u001b[38;5;241m1\u001b[39m\n\u001b[0;32m---> 40\u001b[0m     dP, clock, loc, openset \u001b[38;5;241m=\u001b[39m \u001b[43mheappop\u001b[49m\u001b[43m(\u001b[49m\u001b[43mtodo\u001b[49m\u001b[43m)\u001b[49m\n\u001b[1;32m     41\u001b[0m     \u001b[38;5;28;01mif\u001b[39;00m cnt \u001b[38;5;241m%\u001b[39m \u001b[38;5;241m1e7\u001b[39m \u001b[38;5;241m==\u001b[39m \u001b[38;5;241m0\u001b[39m:\n\u001b[1;32m     42\u001b[0m         \u001b[38;5;28mprint\u001b[39m(\u001b[38;5;124mf\u001b[39m\u001b[38;5;124m'\u001b[39m\u001b[38;5;124mcnt = \u001b[39m\u001b[38;5;132;01m{\u001b[39;00mcnt\u001b[38;5;132;01m}\u001b[39;00m\u001b[38;5;124m, current pop = \u001b[39m\u001b[38;5;132;01m{\u001b[39;00mdP,\u001b[38;5;250m \u001b[39mclock,\u001b[38;5;250m \u001b[39mloc,\u001b[38;5;250m \u001b[39mopenset\u001b[38;5;132;01m}\u001b[39;00m\u001b[38;5;124m'\u001b[39m)\n",
      "\u001b[0;31mKeyboardInterrupt\u001b[0m: "
     ]
    }
   ],
   "source": [
    "# part 2\n",
    "import itertools\n",
    "\n",
    "def act(dP, clock, loc, openset):\n",
    "    options_A = (*valves[loc[0]][1], 'open')\n",
    "    try:\n",
    "        options_B = (*valves[loc[1]][1], 'open')\n",
    "    except:\n",
    "        a = 1\n",
    "    newloc_A, newloc_B = loc\n",
    "    go_flag = False\n",
    "    for r in itertools.product(options_A, options_B):\n",
    "        if r[0] == 'open' and loc[0] not in openset and valves[loc[0]][0] > 0:\n",
    "            dP -= valves[loc[0]][0]*(26-clock)\n",
    "            openset = (*openset,loc[0])\n",
    "            go_flag = True\n",
    "        elif r[0] != 'open':\n",
    "            newloc_A = r[0]\n",
    "            go_flag = True            \n",
    "        if r[1] == 'open' and loc[1] not in openset and valves[loc[1]][0] > 0:\n",
    "            dP -= valves[loc[1]][0]*(26-clock)\n",
    "            openset = (*openset,loc[1])\n",
    "            go_flag = True\n",
    "        elif r[1] != 'open':\n",
    "            newloc_B = r[1]\n",
    "            go_flag = True\n",
    "\n",
    "        if go_flag:\n",
    "            heappush(todo,(dP, clock, (newloc_A,newloc_B), openset))\n",
    "\n",
    "print(valves)\n",
    "# completed = [] # heap of completed states\n",
    "dP_biggest_drop = 0\n",
    "visited = {}  # dictionary of cache of visited, key: loc,openset, value: clock\n",
    "todo = [(0,0,('AA','AA'),())]  # starting state\n",
    "clock = 0\n",
    "cnt = 0\n",
    "while todo != []:\n",
    "    cnt += 1\n",
    "    dP, clock, loc, openset = heappop(todo)\n",
    "    if cnt % 1e7 == 0:\n",
    "        print(f'cnt = {cnt}, current pop = {dP, clock, loc, openset}')\n",
    "    if loc[0] == loc[1] and clock > 0:\n",
    "        continue\n",
    "    if (loc,openset) in visited and clock > visited[(loc,openset)]:\n",
    "        continue # move on to next pop\n",
    "    if (reversed(loc),openset) in visited and clock > visited[(loc,openset)]:\n",
    "        continue # move on to next pop\n",
    "    if dP < dP_biggest_drop:\n",
    "        dP_biggest_drop = dP\n",
    "        print(f'Best so far: {dP, clock, loc, openset}')\n",
    "    visited[(loc,openset)] = clock\n",
    "    clock += 1\n",
    "    if clock <= 11:\n",
    "        act(dP, clock, loc, openset)\n",
    "\n",
    "print(f'cnt = {cnt}, current pop = {dP, clock, loc, openset}')\n",
    "\n"
   ]
  }
 ],
 "metadata": {
  "kernelspec": {
   "display_name": ".venv",
   "language": "python",
   "name": "python3"
  },
  "language_info": {
   "codemirror_mode": {
    "name": "ipython",
    "version": 3
   },
   "file_extension": ".py",
   "mimetype": "text/x-python",
   "name": "python",
   "nbconvert_exporter": "python",
   "pygments_lexer": "ipython3",
   "version": "3.10.12"
  }
 },
 "nbformat": 4,
 "nbformat_minor": 2
}
