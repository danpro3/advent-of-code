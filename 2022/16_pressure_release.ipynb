{
 "cells": [
  {
   "cell_type": "code",
   "execution_count": 2,
   "metadata": {},
   "outputs": [
    {
     "name": "stdout",
     "output_type": "stream",
     "text": [
      "AA (0, ['DD', 'II', 'BB'])\n",
      "BB (13, ['CC', 'AA'])\n",
      "CC (2, ['DD', 'BB'])\n",
      "DD (20, ['CC', 'AA', 'EE'])\n",
      "EE (3, ['FF', 'DD'])\n",
      "FF (0, ['EE', 'GG'])\n",
      "GG (0, ['FF', 'HH'])\n",
      "HH (22, ['GG'])\n",
      "II (0, ['AA', 'JJ'])\n",
      "JJ (21, ['II'])\n"
     ]
    },
    {
     "data": {
      "text/plain": [
       "[None, None, None, None, None, None, None, None, None, None]"
      ]
     },
     "execution_count": 2,
     "metadata": {},
     "output_type": "execute_result"
    }
   ],
   "source": [
    "# part 1\n",
    "import re\n",
    "lines = open('inputs/input_16_test.txt','r').read().splitlines()\n",
    "# lines = open('inputs/input_16.txt','r').read().splitlines()\n",
    "\n",
    "valves = {}\n",
    "for line in lines:\n",
    "    doubles = [x for x in re.findall(r'([A-Z]{2})', line)]\n",
    "    a = re.search(r'\\d+', line) # find integer \n",
    "    flow = int(a.group(0))\n",
    "    valves[doubles[0]] = flow,doubles[1:]\n",
    "\n",
    "[print(x,valves[x]) for x in valves]\n"
   ]
  },
  {
   "cell_type": "code",
   "execution_count": 13,
   "metadata": {},
   "outputs": [
    {
     "name": "stdout",
     "output_type": "stream",
     "text": [
      "{'AA': (0, ['DD', 'II', 'BB']), 'BB': (13, ['CC', 'AA']), 'CC': (2, ['DD', 'BB']), 'DD': (20, ['CC', 'AA', 'EE']), 'EE': (3, ['FF', 'DD']), 'FF': (0, ['EE', 'GG']), 'GG': (0, ['FF', 'HH']), 'HH': (22, ['GG']), 'II': (0, ['AA', 'JJ']), 'JJ': (21, ['II'])}\n",
      "[(0, 1, 'AA', ('AA',)), (0, 1, 'DD', ())]\n",
      "\n",
      "{('AA', ()): 1}\n"
     ]
    },
    {
     "ename": "KeyboardInterrupt",
     "evalue": "",
     "output_type": "error",
     "traceback": [
      "\u001b[0;31m---------------------------------------------------------------------------\u001b[0m",
      "\u001b[0;31mKeyboardInterrupt\u001b[0m                         Traceback (most recent call last)",
      "Cell \u001b[0;32mIn[13], line 23\u001b[0m\n\u001b[1;32m     21\u001b[0m todo \u001b[38;5;241m=\u001b[39m [(\u001b[38;5;241m0\u001b[39m,\u001b[38;5;241m0\u001b[39m,\u001b[38;5;124m'\u001b[39m\u001b[38;5;124mAA\u001b[39m\u001b[38;5;124m'\u001b[39m,())]  \u001b[38;5;66;03m# starting state\u001b[39;00m\n\u001b[1;32m     22\u001b[0m clock \u001b[38;5;241m=\u001b[39m \u001b[38;5;241m0\u001b[39m\n\u001b[0;32m---> 23\u001b[0m \u001b[38;5;28;01mwhile\u001b[39;00m \u001b[43mtodo\u001b[49m \u001b[38;5;241m!=\u001b[39m []:\n\u001b[1;32m     24\u001b[0m     dP, clock, loc, openset \u001b[38;5;241m=\u001b[39m heappop(todo)\n\u001b[1;32m     25\u001b[0m     \u001b[38;5;28;01mif\u001b[39;00m dP \u001b[38;5;241m<\u001b[39m dP_biggest_drop:\n",
      "Cell \u001b[0;32mIn[13], line 23\u001b[0m\n\u001b[1;32m     21\u001b[0m todo \u001b[38;5;241m=\u001b[39m [(\u001b[38;5;241m0\u001b[39m,\u001b[38;5;241m0\u001b[39m,\u001b[38;5;124m'\u001b[39m\u001b[38;5;124mAA\u001b[39m\u001b[38;5;124m'\u001b[39m,())]  \u001b[38;5;66;03m# starting state\u001b[39;00m\n\u001b[1;32m     22\u001b[0m clock \u001b[38;5;241m=\u001b[39m \u001b[38;5;241m0\u001b[39m\n\u001b[0;32m---> 23\u001b[0m \u001b[38;5;28;01mwhile\u001b[39;00m \u001b[43mtodo\u001b[49m \u001b[38;5;241m!=\u001b[39m []:\n\u001b[1;32m     24\u001b[0m     dP, clock, loc, openset \u001b[38;5;241m=\u001b[39m heappop(todo)\n\u001b[1;32m     25\u001b[0m     \u001b[38;5;28;01mif\u001b[39;00m dP \u001b[38;5;241m<\u001b[39m dP_biggest_drop:\n",
      "File \u001b[0;32m_pydevd_bundle\\\\pydevd_cython.pyx:1698\u001b[0m, in \u001b[0;36m_pydevd_bundle.pydevd_cython.SafeCallWrapper.__call__\u001b[0;34m()\u001b[0m\n",
      "File \u001b[0;32m_pydevd_bundle\\\\pydevd_cython.pyx:636\u001b[0m, in \u001b[0;36m_pydevd_bundle.pydevd_cython.PyDBFrame.trace_dispatch\u001b[0;34m()\u001b[0m\n",
      "File \u001b[0;32m_pydevd_bundle\\\\pydevd_cython.pyx:1369\u001b[0m, in \u001b[0;36m_pydevd_bundle.pydevd_cython.PyDBFrame.trace_dispatch\u001b[0;34m()\u001b[0m\n",
      "File \u001b[0;32m_pydevd_bundle\\\\pydevd_cython.pyx:1312\u001b[0m, in \u001b[0;36m_pydevd_bundle.pydevd_cython.PyDBFrame.trace_dispatch\u001b[0;34m()\u001b[0m\n",
      "File \u001b[0;32m_pydevd_bundle\\\\pydevd_cython.pyx:496\u001b[0m, in \u001b[0;36m_pydevd_bundle.pydevd_cython.PyDBFrame.do_wait_suspend\u001b[0;34m()\u001b[0m\n",
      "File \u001b[0;32m~/repos/advent-of-code/.venv/lib/python3.10/site-packages/debugpy/_vendored/pydevd/pydevd.py:2181\u001b[0m, in \u001b[0;36mPyDB.do_wait_suspend\u001b[0;34m(self, thread, frame, event, arg, exception_type)\u001b[0m\n\u001b[1;32m   2178\u001b[0m             from_this_thread\u001b[38;5;241m.\u001b[39mappend(frame_custom_thread_id)\n\u001b[1;32m   2180\u001b[0m     \u001b[38;5;28;01mwith\u001b[39;00m \u001b[38;5;28mself\u001b[39m\u001b[38;5;241m.\u001b[39m_threads_suspended_single_notification\u001b[38;5;241m.\u001b[39mnotify_thread_suspended(thread_id, thread, stop_reason):\n\u001b[0;32m-> 2181\u001b[0m         keep_suspended \u001b[38;5;241m=\u001b[39m \u001b[38;5;28;43mself\u001b[39;49m\u001b[38;5;241;43m.\u001b[39;49m\u001b[43m_do_wait_suspend\u001b[49m\u001b[43m(\u001b[49m\u001b[43mthread\u001b[49m\u001b[43m,\u001b[49m\u001b[43m \u001b[49m\u001b[43mframe\u001b[49m\u001b[43m,\u001b[49m\u001b[43m \u001b[49m\u001b[43mevent\u001b[49m\u001b[43m,\u001b[49m\u001b[43m \u001b[49m\u001b[43marg\u001b[49m\u001b[43m,\u001b[49m\u001b[43m \u001b[49m\u001b[43mtrace_suspend_type\u001b[49m\u001b[43m,\u001b[49m\u001b[43m \u001b[49m\u001b[43mfrom_this_thread\u001b[49m\u001b[43m,\u001b[49m\u001b[43m \u001b[49m\u001b[43mframes_tracker\u001b[49m\u001b[43m)\u001b[49m\n\u001b[1;32m   2183\u001b[0m frames_list \u001b[38;5;241m=\u001b[39m \u001b[38;5;28;01mNone\u001b[39;00m\n\u001b[1;32m   2185\u001b[0m \u001b[38;5;28;01mif\u001b[39;00m keep_suspended:\n\u001b[1;32m   2186\u001b[0m     \u001b[38;5;66;03m# This means that we should pause again after a set next statement.\u001b[39;00m\n",
      "File \u001b[0;32m~/repos/advent-of-code/.venv/lib/python3.10/site-packages/debugpy/_vendored/pydevd/pydevd.py:2250\u001b[0m, in \u001b[0;36mPyDB._do_wait_suspend\u001b[0;34m(self, thread, frame, event, arg, trace_suspend_type, from_this_thread, frames_tracker)\u001b[0m\n\u001b[1;32m   2247\u001b[0m                 queue\u001b[38;5;241m.\u001b[39mput(internal_cmd)\n\u001b[1;32m   2248\u001b[0m                 wait_timeout \u001b[38;5;241m=\u001b[39m TIMEOUT_FAST\n\u001b[0;32m-> 2250\u001b[0m         \u001b[43mnotify_event\u001b[49m\u001b[38;5;241;43m.\u001b[39;49m\u001b[43mwait\u001b[49m\u001b[43m(\u001b[49m\u001b[43mwait_timeout\u001b[49m\u001b[43m)\u001b[49m\n\u001b[1;32m   2251\u001b[0m         notify_event\u001b[38;5;241m.\u001b[39mclear()\n\u001b[1;32m   2253\u001b[0m \u001b[38;5;28;01mfinally\u001b[39;00m:\n",
      "File \u001b[0;32m/usr/lib/python3.10/threading.py:607\u001b[0m, in \u001b[0;36mEvent.wait\u001b[0;34m(self, timeout)\u001b[0m\n\u001b[1;32m    605\u001b[0m signaled \u001b[38;5;241m=\u001b[39m \u001b[38;5;28mself\u001b[39m\u001b[38;5;241m.\u001b[39m_flag\n\u001b[1;32m    606\u001b[0m \u001b[38;5;28;01mif\u001b[39;00m \u001b[38;5;129;01mnot\u001b[39;00m signaled:\n\u001b[0;32m--> 607\u001b[0m     signaled \u001b[38;5;241m=\u001b[39m \u001b[38;5;28;43mself\u001b[39;49m\u001b[38;5;241;43m.\u001b[39;49m\u001b[43m_cond\u001b[49m\u001b[38;5;241;43m.\u001b[39;49m\u001b[43mwait\u001b[49m\u001b[43m(\u001b[49m\u001b[43mtimeout\u001b[49m\u001b[43m)\u001b[49m\n\u001b[1;32m    608\u001b[0m \u001b[38;5;28;01mreturn\u001b[39;00m signaled\n",
      "File \u001b[0;32m/usr/lib/python3.10/threading.py:324\u001b[0m, in \u001b[0;36mCondition.wait\u001b[0;34m(self, timeout)\u001b[0m\n\u001b[1;32m    322\u001b[0m \u001b[38;5;28;01melse\u001b[39;00m:\n\u001b[1;32m    323\u001b[0m     \u001b[38;5;28;01mif\u001b[39;00m timeout \u001b[38;5;241m>\u001b[39m \u001b[38;5;241m0\u001b[39m:\n\u001b[0;32m--> 324\u001b[0m         gotit \u001b[38;5;241m=\u001b[39m \u001b[43mwaiter\u001b[49m\u001b[38;5;241;43m.\u001b[39;49m\u001b[43macquire\u001b[49m\u001b[43m(\u001b[49m\u001b[38;5;28;43;01mTrue\u001b[39;49;00m\u001b[43m,\u001b[49m\u001b[43m \u001b[49m\u001b[43mtimeout\u001b[49m\u001b[43m)\u001b[49m\n\u001b[1;32m    325\u001b[0m     \u001b[38;5;28;01melse\u001b[39;00m:\n\u001b[1;32m    326\u001b[0m         gotit \u001b[38;5;241m=\u001b[39m waiter\u001b[38;5;241m.\u001b[39macquire(\u001b[38;5;28;01mFalse\u001b[39;00m)\n",
      "\u001b[0;31mKeyboardInterrupt\u001b[0m: "
     ]
    }
   ],
   "source": [
    "from heapq import heapify, heappush, heappop\n",
    "\n",
    "def move(dP, clock, loc, openset):\n",
    "    for newloc in valves[loc][1]:\n",
    "        if (loc,openset) not in visited:\n",
    "            visited[(loc,openset)] = clock\n",
    "            heappush(todo,(dP, clock, newloc, openset))\n",
    "        elif clock < visited[(loc,openset)]:\n",
    "            visited[(loc,openset)] = clock\n",
    "            heappush(todo,(dP, clock, newloc, openset))\n",
    "                \n",
    "def openvalve(dP, clock, loc, openset):\n",
    "    if loc not in openset:\n",
    "        dP -= valves[loc][0]*(30-clock)\n",
    "        heappush(todo, (dP, clock, loc, (*openset,loc)))\n",
    "\n",
    "print(valves)\n",
    "# completed = [] # heap of completed states\n",
    "dP_biggest_drop = 0\n",
    "visited = {}  # dictionary of cache of visited, key: loc,openset, value: clock\n",
    "todo = [(0,0,'AA',())]  # starting state\n",
    "clock = 0\n",
    "while todo != []:\n",
    "    dP, clock, loc, openset = heappop(todo)\n",
    "    if dP < dP_biggest_drop:\n",
    "        dP_biggest_drop = dP\n",
    "        print(f'Best so far: {dP, clock, loc, openset}')\n",
    "    clock += 1\n",
    "    if clock < 5:\n",
    "        openvalve(dP, clock, loc, openset)\n",
    "        move(dP, clock, loc, openset)\n",
    "        print(todo)\n",
    "        print()\n",
    "        print(visited)\n",
    "\n"
   ]
  },
  {
   "cell_type": "code",
   "execution_count": 9,
   "metadata": {},
   "outputs": [
    {
     "name": "stdout",
     "output_type": "stream",
     "text": [
      "6\n",
      "[]\n"
     ]
    }
   ],
   "source": [
    "print(clock)\n",
    "print(todo)"
   ]
  }
 ],
 "metadata": {
  "kernelspec": {
   "display_name": ".venv",
   "language": "python",
   "name": "python3"
  },
  "language_info": {
   "codemirror_mode": {
    "name": "ipython",
    "version": 3
   },
   "file_extension": ".py",
   "mimetype": "text/x-python",
   "name": "python",
   "nbconvert_exporter": "python",
   "pygments_lexer": "ipython3",
   "version": "3.10.12"
  }
 },
 "nbformat": 4,
 "nbformat_minor": 2
}
