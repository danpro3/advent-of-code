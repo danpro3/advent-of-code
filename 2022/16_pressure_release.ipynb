{
 "cells": [
  {
   "cell_type": "code",
   "execution_count": 3,
   "metadata": {},
   "outputs": [
    {
     "name": "stdout",
     "output_type": "stream",
     "text": [
      "AA (0, ['DD', 'II', 'BB'])\n",
      "BB (13, ['CC', 'AA'])\n",
      "CC (2, ['DD', 'BB'])\n",
      "DD (20, ['CC', 'AA', 'EE'])\n",
      "EE (3, ['FF', 'DD'])\n",
      "FF (0, ['EE', 'GG'])\n",
      "GG (0, ['FF', 'HH'])\n",
      "HH (22, ['GG'])\n",
      "II (0, ['AA', 'JJ'])\n",
      "JJ (21, ['II'])\n"
     ]
    },
    {
     "data": {
      "text/plain": [
       "[None, None, None, None, None, None, None, None, None, None]"
      ]
     },
     "execution_count": 3,
     "metadata": {},
     "output_type": "execute_result"
    }
   ],
   "source": [
    "# part 1\n",
    "import re\n",
    "lines = open('inputs/input_16_test.txt','r').read().splitlines()\n",
    "# lines = open('inputs/input_16.txt','r').read().splitlines()\n",
    "\n",
    "valves = {}\n",
    "for line in lines:\n",
    "    doubles = [x for x in re.findall(r'([A-Z]{2})', line)]\n",
    "    a = re.search(r'\\d+', line) # find integer \n",
    "    flow = int(a.group(0))\n",
    "    valves[doubles[0]] = flow,doubles[1:]\n",
    "\n",
    "[print(x,valves[x]) for x in valves]\n"
   ]
  },
  {
   "cell_type": "code",
   "execution_count": null,
   "metadata": {},
   "outputs": [
    {
     "name": "stdout",
     "output_type": "stream",
     "text": [
      "{'AA': (0, ['DD', 'II', 'BB']), 'BB': (13, ['CC', 'AA']), 'CC': (2, ['DD', 'BB']), 'DD': (20, ['CC', 'AA', 'EE']), 'EE': (3, ['FF', 'DD']), 'FF': (0, ['EE', 'GG']), 'GG': (0, ['FF', 'HH']), 'HH': (22, ['GG']), 'II': (0, ['AA', 'JJ']), 'JJ': (21, ['II'])}\n",
      "Best so far: (-364, 2, 'BB', ['BB'])\n",
      "Best so far: (-416, 4, 'CC', ['BB', 'CC'])\n",
      "Best so far: (-896, 6, 'DD', ['BB', 'CC', 'DD'])\n",
      "Best so far: (-962, 8, 'EE', ['BB', 'CC', 'DD', 'EE'])\n",
      "Best so far: (-1358, 12, 'HH', ['BB', 'CC', 'DD', 'EE', 'HH'])\n",
      "Best so far: (-1568, 20, 'JJ', ['BB', 'CC', 'DD', 'EE', 'HH', 'JJ'])\n"
     ]
    }
   ],
   "source": [
    "from heapq import heapify, heappush, heappop\n",
    "\n",
    "def move(dP, clock, loc, openset):\n",
    "    for newloc in valves[loc][1]:\n",
    "        heappush(todo,(dP, clock, newloc, openset))\n",
    "\n",
    "def openvalve(dP, clock, loc, openset):\n",
    "    newopenset = openset.copy()\n",
    "    if loc not in openset:\n",
    "        dP -= valves[loc][0]*(30-clock)\n",
    "        newopenset.append(loc)\n",
    "        heappush(todo, (dP, clock, loc, newopenset))\n",
    "\n",
    "print(valves)\n",
    "# completed = [] # heap of completed states\n",
    "dP_biggest_drop = 0\n",
    "visited = set([])  # cache of visited \n",
    "todo = [(0,0,'AA',[])]  # starting state\n",
    "clock = 0\n",
    "while todo != []:\n",
    "    dP, clock, loc, openset = heappop(todo)\n",
    "    if dP < dP_biggest_drop:\n",
    "        dP_biggest_drop = dP\n",
    "        print(f'Best so far: {dP, clock, loc, openset}')\n",
    "    clock += 1\n",
    "    if clock < 30:\n",
    "        openvalve(dP, clock, loc, openset)\n",
    "        move(dP, clock, loc, openset)\n",
    "\n",
    "    \n",
    "\n"
   ]
  },
  {
   "cell_type": "code",
   "execution_count": null,
   "metadata": {},
   "outputs": [],
   "source": []
  }
 ],
 "metadata": {
  "kernelspec": {
   "display_name": ".venv",
   "language": "python",
   "name": "python3"
  },
  "language_info": {
   "codemirror_mode": {
    "name": "ipython",
    "version": 3
   },
   "file_extension": ".py",
   "mimetype": "text/x-python",
   "name": "python",
   "nbconvert_exporter": "python",
   "pygments_lexer": "ipython3",
   "version": "3.10.12"
  }
 },
 "nbformat": 4,
 "nbformat_minor": 2
}
