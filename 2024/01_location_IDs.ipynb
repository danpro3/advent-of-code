{
 "cells": [
  {
   "cell_type": "code",
   "execution_count": 53,
   "metadata": {},
   "outputs": [
    {
     "name": "stdout",
     "output_type": "stream",
     "text": [
      "[1, 2, 3, 3, 3, 4]\n",
      "[3, 3, 3, 4, 5, 9]\n",
      "sum of differences = 11\n",
      "sum of differences = 11\n"
     ]
    }
   ],
   "source": [
    "# part 1\n",
    "lines = open('inputs/input_01_test.txt','r').read().splitlines()\n",
    "# lines = open('inputs/input_01.txt','r').read().splitlines()\n",
    "X = []\n",
    "Y = []\n",
    "for line in lines:\n",
    "    a = line.split('   ')\n",
    "    X.append(int(a[0]))\n",
    "    Y.append(int(a[1]))\n",
    "X.sort()\n",
    "Y.sort()\n",
    "\n",
    "print(X)\n",
    "print(Y)\n",
    "\n",
    "# one way\n",
    "D = [abs(X[i]-Y[i]) for i in range(len(X))]\n",
    "print(f'sum of differences = {sum(D)}')\n",
    "\n",
    "# another way\n",
    "D = 0\n",
    "for x,y in zip(X,Y):\n",
    "    D += abs(x-y)\n",
    "print(f'sum of differences = {D}')\n",
    "\n"
   ]
  },
  {
   "cell_type": "code",
   "execution_count": 54,
   "metadata": {},
   "outputs": [
    {
     "name": "stdout",
     "output_type": "stream",
     "text": [
      "similarity score = 31\n"
     ]
    }
   ],
   "source": [
    "# part 2\n",
    "X = []\n",
    "Y = []\n",
    "for line in lines:\n",
    "    a = line.split('   ')\n",
    "    X.append(int(a[0]))\n",
    "    Y.append(int(a[1]))\n",
    "import re\n",
    "similarity_score = 0\n",
    "for x in X:\n",
    "    foundlist = [a for a in Y if a == x]\n",
    "    # print(foundlist)\n",
    "    similarity_score += x*len(foundlist)\n",
    "\n",
    "print(f'similarity score = {similarity_score}')\n",
    "\n"
   ]
  }
 ],
 "metadata": {
  "kernelspec": {
   "display_name": ".venv",
   "language": "python",
   "name": "python3"
  },
  "language_info": {
   "codemirror_mode": {
    "name": "ipython",
    "version": 3
   },
   "file_extension": ".py",
   "mimetype": "text/x-python",
   "name": "python",
   "nbconvert_exporter": "python",
   "pygments_lexer": "ipython3",
   "version": "3.10.12"
  }
 },
 "nbformat": 4,
 "nbformat_minor": 2
}
