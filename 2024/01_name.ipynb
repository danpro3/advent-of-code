{
 "cells": [
  {
   "cell_type": "code",
   "execution_count": 32,
   "metadata": {},
   "outputs": [
    {
     "name": "stdout",
     "output_type": "stream",
     "text": [
      "numbers safe reports = 224\n"
     ]
    }
   ],
   "source": [
    "# part 1\n",
    "import re\n",
    "import numpy as np\n",
    "# lines = open('inputs/input_02_test.txt','r').read().splitlines()\n",
    "lines = open('inputs/input_02.txt','r').read().splitlines()\n",
    "\n",
    "num_safe = 0\n",
    "for line in lines:\n",
    "    # print(f'\\n {line}')\n",
    "    levels = [int(x) for x in re.findall(r'\\d+', line)]\n",
    "    # print(levels)\n",
    "    diffs = np.array([(levels[i+1]-levels[i]) for i in range(0,len(levels)-1)])\n",
    "    # print(diffs)\n",
    "    # print(diffs <= np.array([3]*len(diffs)) )\n",
    "    if all( diffs > 0) and all( diffs <= np.array([3]*len(diffs)) ):\n",
    "        num_safe += 1\n",
    "        # print('safe')\n",
    "    if all( diffs < 0) and all( diffs >= np.array([-3]*len(diffs)) ):\n",
    "        num_safe += 1\n",
    "    \n",
    "print(f'numbers safe reports = {num_safe}')\n"
   ]
  },
  {
   "cell_type": "code",
   "execution_count": null,
   "metadata": {},
   "outputs": [
    {
     "data": {
      "text/plain": [
       "False"
      ]
     },
     "execution_count": 17,
     "metadata": {},
     "output_type": "execute_result"
    }
   ],
   "source": [
    "# part 2\n",
    "\n",
    "def safety_check"
   ]
  }
 ],
 "metadata": {
  "kernelspec": {
   "display_name": ".venv",
   "language": "python",
   "name": "python3"
  },
  "language_info": {
   "codemirror_mode": {
    "name": "ipython",
    "version": 3
   },
   "file_extension": ".py",
   "mimetype": "text/x-python",
   "name": "python",
   "nbconvert_exporter": "python",
   "pygments_lexer": "ipython3",
   "version": "3.10.12"
  }
 },
 "nbformat": 4,
 "nbformat_minor": 2
}
