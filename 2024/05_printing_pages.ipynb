{
 "cells": [
  {
   "cell_type": "code",
   "execution_count": 67,
   "metadata": {},
   "outputs": [
    {
     "name": "stdout",
     "output_type": "stream",
     "text": [
      "[75, 97, 47, 61, 53]\n",
      "1 97\n",
      "1 47\n",
      "2 47\n",
      "1 61\n",
      "2 61\n",
      "3 61\n",
      "[97, 47, 61, 75]\n",
      "pages = [], middle number = 61\n",
      "[61, 13, 29]\n",
      "1 13\n",
      "[13, 61]\n",
      "pages = [], middle number = 61\n",
      "[97, 13, 75, 29, 47]\n",
      "1 13\n",
      "1 75\n",
      "1 29\n",
      "2 29\n",
      "[75, 29, 13, 97]\n",
      "pages = [], middle number = 13\n",
      " number of good updates = 3, sum of middles = 143\n",
      " number of bad updates = 3, sum of middles corrected = 135\n"
     ]
    }
   ],
   "source": [
    "# part 1 \n",
    "\n",
    "def sort_bad_list(pages): # part 2\n",
    "    print(pages)\n",
    "    newlist = [pages.pop(0)]\n",
    "    inserted = False\n",
    "    page = pages.pop(0)\n",
    "    while len(pages) > 0:\n",
    "        inserted = False\n",
    "        k = 1\n",
    "        while not inserted:\n",
    "            print(k, page)\n",
    "            if page in rules and newlist[k-1] in rules[page]:\n",
    "                newlist.insert(k-1,page)\n",
    "                inserted = True\n",
    "            elif k >= len(newlist):\n",
    "                newlist.insert(k-1,page)\n",
    "                inserted = True\n",
    "            k += 1\n",
    "        page = pages.pop(0)\n",
    "    print(newlist)\n",
    "    return newlist[len(newlist)//2]\n",
    "\n",
    "\n",
    "filestr = open('inputs/input_05_test.txt','r').read().split('\\n\\n')\n",
    "# filestr = open('inputs/input_05.txt','r').read().split('\\n\\n')\n",
    "rules_str = filestr[0].splitlines()\n",
    "updates = filestr[1].splitlines()\n",
    "\n",
    "# print(rules_str)\n",
    "# print(updates)\n",
    "r = [0,0]\n",
    "rules = dict()\n",
    "for rule in rules_str:\n",
    "    r = [int(x) for x in rule.split('|')]\n",
    "    if r[0] not in rules:\n",
    "        rules[r[0]] = [r[1]]\n",
    "    else:\n",
    "        rules[r[0]].append(r[1])\n",
    "\n",
    "# print(rules)\n",
    "correct_updates = 0\n",
    "incorrect_updates = 0\n",
    "sum_of_middles = 0\n",
    "sum_of_middles_corrected = 0\n",
    "for update in updates:\n",
    "    pages = [int(x) for x in update.split(',')]\n",
    "    good_flag = True\n",
    "    i = 0\n",
    "    while i < len(pages)-1 and good_flag == True:\n",
    "        if pages[i+1] in rules and pages[i] in rules[pages[i+1]]:\n",
    "            good_flag = False\n",
    "        i += 1\n",
    "    if good_flag:\n",
    "        # print(f'good update: {update}')\n",
    "        correct_updates += 1\n",
    "        sum_of_middles += pages[len(pages)//2]\n",
    "    else:\n",
    "        incorrect_updates += 1\n",
    "        middle = sort_bad_list(pages)\n",
    "        sum_of_middles_corrected += middle\n",
    "        print(f'pages = {pages}, middle number = {middle}')\n",
    "\n",
    "\n",
    "print(f' number of good updates = {correct_updates}, sum of middles = {sum_of_middles}')\n",
    "print(f' number of bad updates = {incorrect_updates}, sum of middles corrected = {sum_of_middles_corrected}')\n"
   ]
  },
  {
   "cell_type": "code",
   "execution_count": null,
   "metadata": {},
   "outputs": [
    {
     "data": {
      "text/plain": [
       "4"
      ]
     },
     "execution_count": 26,
     "metadata": {},
     "output_type": "execute_result"
    }
   ],
   "source": [
    "a = [1,2,3,4,5]\n",
    "len(a)\n",
    "a[len(a)//2 +1]"
   ]
  }
 ],
 "metadata": {
  "kernelspec": {
   "display_name": ".venv",
   "language": "python",
   "name": "python3"
  },
  "language_info": {
   "codemirror_mode": {
    "name": "ipython",
    "version": 3
   },
   "file_extension": ".py",
   "mimetype": "text/x-python",
   "name": "python",
   "nbconvert_exporter": "python",
   "pygments_lexer": "ipython3",
   "version": "3.10.12"
  }
 },
 "nbformat": 4,
 "nbformat_minor": 2
}
