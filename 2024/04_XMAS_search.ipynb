{
 "cells": [
  {
   "cell_type": "code",
   "execution_count": null,
   "metadata": {},
   "outputs": [
    {
     "name": "stdout",
     "output_type": "stream",
     "text": [
      "total = 2618\n"
     ]
    }
   ],
   "source": [
    "# part 1\n",
    "import re\n",
    "from collections import defaultdict\n",
    "\n",
    "\n",
    "def groups(data, func):\n",
    "    grouping = defaultdict(list)\n",
    "    for y in range(len(data)):\n",
    "        for x in range(len(data[y])):\n",
    "            grouping[func(x, y)].append(data[y][x])\n",
    "    all_lists = list(map(grouping.get, sorted(grouping)))\n",
    "    return [''.join(sublist) for sublist in all_lists]\n",
    "\n",
    "# main\n",
    "# lines = open('inputs/input_04_test.txt','r').read().splitlines()\n",
    "lines = open('inputs/input_04.txt','r').read().splitlines()\n",
    "\n",
    "# test = [[1, 2, 3], [4, 5, 6], [7, 8, 9], [10, 11, 12]]\n",
    "cols = groups(lines, lambda x, y: x)\n",
    "rows = groups(lines, lambda x, y: y)\n",
    "fdiag = groups(lines, lambda x, y: x + y)\n",
    "bdiag = groups(lines, lambda x, y: x - y)\n",
    "\n",
    "\n",
    "total = 0\n",
    "for quickstr in cols:\n",
    "    total += len( re.findall(r'(XMAS)',quickstr) )\n",
    "    total += len( re.findall(r'(SAMX)',quickstr) )\n",
    "\n",
    "for quickstr in rows:\n",
    "    total += len( re.findall(r'(XMAS)',quickstr) )\n",
    "    total += len( re.findall(r'(SAMX)',quickstr) )\n",
    "\n",
    "for quickstr in fdiag:\n",
    "    total += len( re.findall(r'(XMAS)',quickstr) )\n",
    "    total += len( re.findall(r'(SAMX)',quickstr) )\n",
    "\n",
    "for quickstr in bdiag:\n",
    "    total += len( re.findall(r'(XMAS)',quickstr) )\n",
    "    total += len( re.findall(r'(SAMX)',quickstr) )\n",
    "\n",
    "print(f'total = {total}')\n"
   ]
  },
  {
   "cell_type": "code",
   "execution_count": 29,
   "metadata": {},
   "outputs": [
    {
     "name": "stdout",
     "output_type": "stream",
     "text": [
      "[(4, 5), (5, 6)]\n",
      "MMMSXXMASM\n"
     ]
    }
   ],
   "source": [
    "M = [x.span(0) for x in re.finditer(r'X',lines[0])]\n",
    "print(M)\n",
    "print(lines[0])"
   ]
  }
 ],
 "metadata": {
  "kernelspec": {
   "display_name": ".venv",
   "language": "python",
   "name": "python3"
  },
  "language_info": {
   "codemirror_mode": {
    "name": "ipython",
    "version": 3
   },
   "file_extension": ".py",
   "mimetype": "text/x-python",
   "name": "python",
   "nbconvert_exporter": "python",
   "pygments_lexer": "ipython3",
   "version": "3.10.12"
  }
 },
 "nbformat": 4,
 "nbformat_minor": 2
}
