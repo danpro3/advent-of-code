{
 "cells": [
  {
   "cell_type": "code",
   "execution_count": 32,
   "metadata": {},
   "outputs": [
    {
     "name": "stdout",
     "output_type": "stream",
     "text": [
      "total = 5\n"
     ]
    }
   ],
   "source": [
    "# part 1\n",
    "import re\n",
    "lines = open('inputs/input_04_test.txt','r').read().splitlines()\n",
    "# lines = open('inputs/input_04.txt','r').read().splitlines()\n",
    "\n",
    "Rmax = len(lines)\n",
    "Cmax = len(lines[0])\n",
    "\n",
    "total = 0\n",
    "# print(lines)\n",
    "for r,line in enumerate(lines):\n",
    "    # check left/right\n",
    "    total += len( re.findall(r'(XMAS)',line) )\n",
    "    total += len( re.findall(r'(SAMX)',line) )\n",
    "print(f'total = {total}')\n",
    "\n",
    "    # find the X's\n",
    "#     finds = [x for x in re.finditer(r'X',line)]\n",
    "\n",
    "#     # check up\n",
    "#     if r < Rmax-3:\n",
    "#         str = lines[r]\n",
    "# # make diagonal strings\n",
    "# diagsD = []\n",
    "# diagsU = []\n",
    "# r = 0\n",
    "# i = 0\n",
    "# while r < Rmax:\n",
    "#     i = 0\n",
    "#     while r < Rmax and c < Cmax:\n",
    "#         diagsD = 1\n",
    "\n",
    "\n",
    "\n",
    "#     diagsU = lines"
   ]
  },
  {
   "cell_type": "code",
   "execution_count": 29,
   "metadata": {},
   "outputs": [
    {
     "name": "stdout",
     "output_type": "stream",
     "text": [
      "[(4, 5), (5, 6)]\n",
      "MMMSXXMASM\n"
     ]
    }
   ],
   "source": [
    "M = [x.span(0) for x in re.finditer(r'X',lines[0])]\n",
    "print(M)\n",
    "print(lines[0])"
   ]
  }
 ],
 "metadata": {
  "kernelspec": {
   "display_name": ".venv",
   "language": "python",
   "name": "python3"
  },
  "language_info": {
   "codemirror_mode": {
    "name": "ipython",
    "version": 3
   },
   "file_extension": ".py",
   "mimetype": "text/x-python",
   "name": "python",
   "nbconvert_exporter": "python",
   "pygments_lexer": "ipython3",
   "version": "3.10.12"
  }
 },
 "nbformat": 4,
 "nbformat_minor": 2
}
