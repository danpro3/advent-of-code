{
 "cells": [
  {
   "cell_type": "code",
   "execution_count": 70,
   "metadata": {},
   "outputs": [
    {
     "name": "stdout",
     "output_type": "stream",
     "text": [
      "total found = 2618\n"
     ]
    }
   ],
   "source": [
    "# part 1\n",
    "import re\n",
    "from collections import defaultdict\n",
    "\n",
    "\n",
    "def groups(data, func):\n",
    "    grouping = defaultdict(list)\n",
    "    for y in range(len(data)):\n",
    "        for x in range(len(data[y])):\n",
    "            grouping[func(x, y)].append(data[y][x])\n",
    "    all_lists = list(map(grouping.get, sorted(grouping)))\n",
    "    return [''.join(sublist) for sublist in all_lists]\n",
    "\n",
    "# main\n",
    "# lines = open('inputs/input_04_test.txt','r').read().splitlines()\n",
    "lines = open('inputs/input_04.txt','r').read().splitlines()\n",
    "\n",
    "# test = [[1, 2, 3], [4, 5, 6], [7, 8, 9], [10, 11, 12]]\n",
    "cols = groups(lines, lambda x, y: x)\n",
    "rows = groups(lines, lambda x, y: y)\n",
    "fdiag = groups(lines, lambda x, y: x + y)\n",
    "bdiag = groups(lines, lambda x, y: x - y)\n",
    "\n",
    "\n",
    "total = 0\n",
    "for quickstr in cols:\n",
    "    total += len( re.findall(r'(XMAS)',quickstr) )\n",
    "    total += len( re.findall(r'(SAMX)',quickstr) )\n",
    "\n",
    "for quickstr in rows:\n",
    "    total += len( re.findall(r'(XMAS)',quickstr) )\n",
    "    total += len( re.findall(r'(SAMX)',quickstr) )\n",
    "\n",
    "for quickstr in fdiag:\n",
    "    total += len( re.findall(r'(XMAS)',quickstr) )\n",
    "    total += len( re.findall(r'(SAMX)',quickstr) )\n",
    "\n",
    "for quickstr in bdiag:\n",
    "    total += len( re.findall(r'(XMAS)',quickstr) )\n",
    "    total += len( re.findall(r'(SAMX)',quickstr) )\n",
    "\n",
    "print(f'total found = {total}')\n"
   ]
  },
  {
   "cell_type": "code",
   "execution_count": null,
   "metadata": {},
   "outputs": [
    {
     "name": "stdout",
     "output_type": "stream",
     "text": [
      "total found = 2011\n"
     ]
    }
   ],
   "source": [
    "Rmax = len(lines)\n",
    "Cmax = len(lines[0])\n",
    "acceptables = ['MSMS','MSSM','SMMS','SMSM']\n",
    "total_found = 0\n",
    "for r in range(1,len(lines)-1):\n",
    "    for c in range(1,len(lines[r])-1):\n",
    "        # print(f'line: {lines[r]}, s= {lines[r][c]}')\n",
    "        checkstring = lines[r-1][c-1] + lines[r+1][c+1] + lines[r+1][c-1] + lines[r-1][c+1]\n",
    "        if lines[r][c] == 'A' and checkstring in acceptables:\n",
    "            total_found += 1\n",
    "\n",
    "print(f'total found = {total_found}')\n"
   ]
  }
 ],
 "metadata": {
  "kernelspec": {
   "display_name": ".venv",
   "language": "python",
   "name": "python3"
  },
  "language_info": {
   "codemirror_mode": {
    "name": "ipython",
    "version": 3
   },
   "file_extension": ".py",
   "mimetype": "text/x-python",
   "name": "python",
   "nbconvert_exporter": "python",
   "pygments_lexer": "ipython3",
   "version": "3.10.12"
  }
 },
 "nbformat": 4,
 "nbformat_minor": 2
}
