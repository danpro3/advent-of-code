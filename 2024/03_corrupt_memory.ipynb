{
 "cells": [
  {
   "cell_type": "code",
   "execution_count": 25,
   "metadata": {},
   "outputs": [
    {
     "name": "stdout",
     "output_type": "stream",
     "text": [
      "running sum = 179834255\n"
     ]
    }
   ],
   "source": [
    "# part 1\n",
    "import re\n",
    "# filestr = open('inputs/input_03_test2.txt','r').read()\n",
    "filestr = open('inputs/input_03.txt','r').read()\n",
    "\n",
    "groups = [x for x in re.findall(r'mul\\(\\d+,\\d+\\)',filestr)]\n",
    "# print(groups)\n",
    "running_sum = 0\n",
    "for group in groups:\n",
    "    nums = [int(x) for x in re.findall(r'\\d+',group)]\n",
    "    running_sum += nums[0]*nums[1]\n",
    "\n",
    "print(f'running sum = {running_sum}')\n"
   ]
  },
  {
   "cell_type": "code",
   "execution_count": 26,
   "metadata": {},
   "outputs": [
    {
     "name": "stdout",
     "output_type": "stream",
     "text": [
      "running sum = 80570939\n"
     ]
    }
   ],
   "source": [
    "# part 2\n",
    "# print(filestr)\n",
    "groups = [x for x in re.findall(r'(mul\\(\\d+,\\d+\\)|do\\(\\)|don\\'t\\(\\))',filestr)]\n",
    "# print(groups)\n",
    "running_sum = 0\n",
    "do_flag = True\n",
    "for group in groups:\n",
    "    if group == \"do()\":\n",
    "        do_flag = True\n",
    "    elif group == \"don't()\":\n",
    "        do_flag = False\n",
    "    elif do_flag == True:\n",
    "        nums = [int(x) for x in re.findall(r'\\d+',group)]\n",
    "        # print(group)\n",
    "        running_sum += nums[0]*nums[1]\n",
    "\n",
    "print(f'running sum = {running_sum}')"
   ]
  }
 ],
 "metadata": {
  "kernelspec": {
   "display_name": ".venv",
   "language": "python",
   "name": "python3"
  },
  "language_info": {
   "codemirror_mode": {
    "name": "ipython",
    "version": 3
   },
   "file_extension": ".py",
   "mimetype": "text/x-python",
   "name": "python",
   "nbconvert_exporter": "python",
   "pygments_lexer": "ipython3",
   "version": "3.10.12"
  }
 },
 "nbformat": 4,
 "nbformat_minor": 2
}
