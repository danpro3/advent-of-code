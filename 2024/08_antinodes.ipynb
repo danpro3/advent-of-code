{
 "cells": [
  {
   "cell_type": "code",
   "execution_count": 77,
   "metadata": {},
   "outputs": [],
   "source": [
    "# filestr = open('inputs/input_08_test.txt','r').read()\n",
    "# lines = open('inputs/input_08_test.txt','r').read().splitlines()\n",
    "filestr = open('inputs/input_08.txt','r').read()\n",
    "lines = open('inputs/input_08.txt','r').read().splitlines()\n",
    "# _=[print(line) for line in lines]"
   ]
  },
  {
   "cell_type": "code",
   "execution_count": null,
   "metadata": {},
   "outputs": [
    {
     "name": "stdout",
     "output_type": "stream",
     "text": [
      "number of antinodes = 305\n",
      "number of antinodes part 2 = 1150\n"
     ]
    }
   ],
   "source": [
    "# part 1 and 2\n",
    "import re\n",
    "\n",
    "def getRC(idx, cols):\n",
    "    cols += 1 # for \\n\n",
    "    r = idx // cols\n",
    "    c = idx % cols\n",
    "    return r,c\n",
    "\n",
    "def find_antinodes(char):\n",
    "    for a,g1 in enumerate(A[char]):\n",
    "        for g2 in A[char][a+1:]:\n",
    "            # print(g1,g2)\n",
    "            dr = g2[0]-g1[0]\n",
    "            dc = g2[1]-g1[1]\n",
    "            new_r, new_c = (g2[0] + dr, g2[1] + dc)\n",
    "            if new_r >=0 and new_r < rows and new_c >=0 and new_c < cols:\n",
    "                # print(f'add {new_r,new_c}')\n",
    "                nodes.add((new_r,new_c))\n",
    "            new_r, new_c = (g1[0] - dr, g1[1] - dc)\n",
    "            if new_r >=0 and new_r < rows and new_c >=0 and new_c < cols:\n",
    "                # print(f'add {new_r,new_c}')\n",
    "                nodes.add((new_r,new_c))\n",
    "\n",
    "def find_antinodes_p2(char):\n",
    "    for a,g1 in enumerate(A[char]):\n",
    "        for g2 in A[char][a+1:]:\n",
    "            # print(g1,g2)\n",
    "            dr = g2[0]-g1[0]\n",
    "            dc = g2[1]-g1[1]\n",
    "            nodes2.add(tuple(g1))\n",
    "            nodes2.add(tuple(g2))\n",
    "            new_r, new_c = (g2[0] + dr, g2[1] + dc)\n",
    "            while new_r >=0 and new_r < rows and new_c >=0 and new_c < cols:\n",
    "                # print(f'add {new_r,new_c}')\n",
    "                nodes2.add((new_r,new_c))\n",
    "                new_r, new_c = (new_r + dr, new_c + dc)\n",
    "            new_r, new_c = (g1[0] - dr, g1[1] - dc)\n",
    "            while new_r >=0 and new_r < rows and new_c >=0 and new_c < cols:\n",
    "                # print(f'add {new_r,new_c}')\n",
    "                nodes2.add((new_r,new_c))\n",
    "                new_r, new_c = (new_r - dr, new_c - dc)\n",
    "\n",
    "# create dictionary of coords\n",
    "rows = len(lines)\n",
    "cols = len(lines[0])\n",
    "chars = re.findall(r'[^\\.\\n]',filestr)\n",
    "charlocs = [x.span() for x in re.finditer(r'[^\\.\\n]',filestr)]\n",
    "charlocs = [x[0] for x in charlocs]\n",
    "# print(charlocs)\n",
    "A = dict()  # antennae dictionary\n",
    "for idx in charlocs:\n",
    "    r,c = getRC(idx,cols)\n",
    "    char = filestr[idx]\n",
    "    if char not in A:\n",
    "        A[char] = [[r,c]]\n",
    "    else:\n",
    "        A[char].append([r,c])\n",
    "# print(A)\n",
    "\n",
    "# now find antinodes\n",
    "nodes = set()\n",
    "nodes2 = set()\n",
    "for char in A:\n",
    "    # print(char)\n",
    "    find_antinodes(char)\n",
    "    find_antinodes_p2(char)\n",
    "# print(nodes)\n",
    "print(f'number of antinodes = {len(nodes)}')\n",
    "print(f'number of antinodes part 2 = {len(nodes2)}')\n"
   ]
  }
 ],
 "metadata": {
  "kernelspec": {
   "display_name": ".venv",
   "language": "python",
   "name": "python3"
  },
  "language_info": {
   "codemirror_mode": {
    "name": "ipython",
    "version": 3
   },
   "file_extension": ".py",
   "mimetype": "text/x-python",
   "name": "python",
   "nbconvert_exporter": "python",
   "pygments_lexer": "ipython3",
   "version": "3.10.12"
  }
 },
 "nbformat": 4,
 "nbformat_minor": 2
}
