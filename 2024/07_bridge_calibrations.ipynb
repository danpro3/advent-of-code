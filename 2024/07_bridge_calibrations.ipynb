{
 "cells": [
  {
   "cell_type": "code",
   "execution_count": 84,
   "metadata": {},
   "outputs": [],
   "source": [
    "# lines = open('inputs/input_07_test.txt','r').read().splitlines()\n",
    "lines = open('inputs/input_07.txt','r').read().splitlines()\n",
    "# _=[print(line) for line in lines]"
   ]
  },
  {
   "cell_type": "code",
   "execution_count": 29,
   "metadata": {},
   "outputs": [
    {
     "name": "stdout",
     "output_type": "stream",
     "text": [
      "total of the found answers = 465126289353\n"
     ]
    }
   ],
   "source": [
    "# part 1\n",
    "import re\n",
    "total_found = 0\n",
    "for line in lines:\n",
    "    S = re.findall(r'\\d+',line)\n",
    "    ans = int(S[0])\n",
    "    nums = [int(x) for x in S[1:]]\n",
    "    # print(ans,nums)\n",
    "    combos = 2**(len(nums)-1)\n",
    "    i = 0\n",
    "    found = False\n",
    "    while not found and i < combos:\n",
    "        value = nums[0]\n",
    "        binary_list = list(bin(i)[2:])\n",
    "        while len(binary_list) < len(nums)-1:\n",
    "            binary_list.insert(0,'0')\n",
    "        # print(binary_list)\n",
    "        for k in range(len(nums)-1):\n",
    "            if binary_list[k] == '0':\n",
    "                value += nums[k+1]\n",
    "            else:\n",
    "                value *=nums[k+1]\n",
    "        if value == ans:\n",
    "            found = True\n",
    "            total_found += ans\n",
    "        i += 1\n",
    "    # print(f'result = {found}')\n",
    "\n",
    "print(f'total of the found answers = {total_found}')"
   ]
  },
  {
   "cell_type": "code",
   "execution_count": 33,
   "metadata": {},
   "outputs": [
    {
     "name": "stdout",
     "output_type": "stream",
     "text": [
      "total of the found answers = 70597497486371\n"
     ]
    }
   ],
   "source": [
    "# part 2\n",
    "import itertools\n",
    "import re\n",
    "total_found = 0\n",
    "for line in lines:\n",
    "    S = re.findall(r'\\d+',line)\n",
    "    ans = int(S[0])\n",
    "    nums = [int(x) for x in S[1:]]\n",
    "    # print(ans,nums)\n",
    "    # choice_group = list(itertools.product(['+','*'], repeat=len(nums)-1))\n",
    "    choice_group = list(itertools.product(['+','*','|'], repeat=len(nums)-1))\n",
    "    # print(choice_group)\n",
    "    i = 0\n",
    "    found = False\n",
    "    while not found and i < len(choice_group):\n",
    "        value = nums[0]\n",
    "        oper_list = choice_group[i]\n",
    "        # print(binary_list)\n",
    "        for k in range(len(nums)-1):\n",
    "            if oper_list[k] == '+':\n",
    "                value += nums[k+1]\n",
    "            elif oper_list[k] == '*':\n",
    "                value *= nums[k+1]\n",
    "            else: # concatinate\n",
    "                value = int(str(value)+str(nums[k+1]))\n",
    "\n",
    "        if value == ans:\n",
    "            found = True\n",
    "            total_found += ans\n",
    "        i += 1\n",
    "    # print(f'result = {found}')\n",
    "\n",
    "print(f'total of the found answers = {total_found}')\n",
    "# 40 seconds to run"
   ]
  },
  {
   "cell_type": "code",
   "execution_count": 62,
   "metadata": {},
   "outputs": [
    {
     "name": "stdout",
     "output_type": "stream",
     "text": [
      "totals = 70597497486371\n"
     ]
    }
   ],
   "source": [
    "# part 2 another way\n",
    "import re\n",
    "def ans_check(ans,nums):\n",
    "    tree = [(nums[0],0)]\n",
    "    while tree:\n",
    "        value, ncalcs = tree.pop()\n",
    "        # print(value,ncalcs)\n",
    "        if ncalcs == len(nums)-1 and value == ans:\n",
    "            return True\n",
    "        if ncalcs < len(nums)-1:\n",
    "            tree.append((value + nums[ncalcs+1], ncalcs + 1))\n",
    "            tree.append((value * nums[ncalcs+1], ncalcs + 1))\n",
    "            tree.append((int(str(value) + str(nums[ncalcs+1])), ncalcs + 1))\n",
    "    return False\n",
    "\n",
    "lines = open('inputs/input_07.txt','r').read().splitlines()\n",
    "nlines = len(lines)\n",
    "totals = 0\n",
    "for r,line in enumerate(lines):\n",
    "    S = re.findall(r'\\d+',line)\n",
    "    ans, nums = [int(S[0]), [int(x) for x in S[1:]]]\n",
    "    if ans_check(ans,nums):\n",
    "        totals += ans\n",
    "\n",
    "print(f'totals = {totals}')    "
   ]
  }
 ],
 "metadata": {
  "kernelspec": {
   "display_name": ".venv",
   "language": "python",
   "name": "python3"
  },
  "language_info": {
   "codemirror_mode": {
    "name": "ipython",
    "version": 3
   },
   "file_extension": ".py",
   "mimetype": "text/x-python",
   "name": "python",
   "nbconvert_exporter": "python",
   "pygments_lexer": "ipython3",
   "version": "3.10.12"
  }
 },
 "nbformat": 4,
 "nbformat_minor": 2
}
