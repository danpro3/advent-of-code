{
 "cells": [
  {
   "cell_type": "code",
   "execution_count": 111,
   "metadata": {},
   "outputs": [
    {
     "name": "stdout",
     "output_type": "stream",
     "text": [
      "startidx = 7034, start = [53, 91]\n"
     ]
    }
   ],
   "source": [
    "# filestr = open('inputs/input_06_test.txt','r').read()\n",
    "filestr = open('inputs/input_06.txt','r').read()\n",
    "grid = filestr.splitlines()\n",
    "# filestr = open('inputs/input_05.txt','r').read().split('\\n\\n')\n",
    "# _=[print(x) for x in grid]\n",
    "rows = len(grid)\n",
    "cols = len(grid[0])\n",
    "startidx = filestr.index('^')\n",
    "start = [startidx//rows-1, startidx % (cols+1)]\n",
    "print(f'startidx = {startidx}, start = {start}')\n",
    "# _=[print(x) for x in grid]"
   ]
  },
  {
   "cell_type": "code",
   "execution_count": 112,
   "metadata": {},
   "outputs": [
    {
     "name": "stdout",
     "output_type": "stream",
     "text": [
      "start: r,c = [53, 91], dir = U, total visited = 1\n",
      "number of distinct visited = 5208\n"
     ]
    }
   ],
   "source": [
    "# part 1\n",
    "turn = {'U':'R', 'R':'D', 'D':'L', 'L':'U'}\n",
    "move = {'U':(-1,0), 'D':(1,0), 'L':(0,-1), 'R':(0,1)}\n",
    "\n",
    "dir = 'U'\n",
    "r,c = start\n",
    "visited = set()\n",
    "visited.add((r,c))\n",
    "print(f'start: r,c = {[r,c]}, dir = {dir}, total visited = {len(visited)}')\n",
    "r_check, c_check = [r + move[dir][0], c + move[dir][1]]\n",
    "while r_check >= 0 and r_check < rows and c_check >= 0 and c_check < cols:\n",
    "    # print(r_check, c_check)\n",
    "    if grid[r_check][c_check] == '#':\n",
    "        dir = turn[dir]\n",
    "    else:\n",
    "        r,c = [r_check, c_check]\n",
    "        visited.add((r,c))\n",
    "    r_check, c_check = [r + move[dir][0], c + move[dir][1]]\n",
    "    # print(f'r,c = {[r,c]}, dir = {dir}, total visited = {len(visited)}')\n",
    "\n",
    "print(f'number of distinct visited = {len(visited)}')\n"
   ]
  },
  {
   "cell_type": "code",
   "execution_count": null,
   "metadata": {},
   "outputs": [
    {
     "name": "stdout",
     "output_type": "stream",
     "text": [
      "\n",
      "block_r, block_c = [130, 130], block options = 1972\n"
     ]
    }
   ],
   "source": [
    "# part 2\n",
    "def check_for_loop():\n",
    "    visited = set()\n",
    "    r,c = start\n",
    "    dir = 'U'\n",
    "    visited.add((r,c,dir))\n",
    "    r_check, c_check = [r + move[dir][0], c + move[dir][1]]\n",
    "    # while (r,c,dir) not in visited and r_check >= 0 and r_check < rows and c_check >= 0 and c_check < cols:\n",
    "    while (r_check,c_check,dir) not in visited and r_check >= 0 and r_check < rows and c_check >= 0 and c_check < cols:\n",
    "        # print(r_check, c_check)\n",
    "        if grid[r_check][c_check] in ['#','O']: # add in the '0' for checking new blocks\n",
    "            dir = turn[dir]\n",
    "        else:\n",
    "            r,c = [r_check, c_check]\n",
    "            visited.add((r,c,dir))\n",
    "        r_check, c_check = [r + move[dir][0], c + move[dir][1]]\n",
    "        # print(r,c, r_check,c_check)\n",
    "    if (r_check,c_check,dir) in visited:\n",
    "        return True\n",
    "    else:\n",
    "        return False\n",
    "\n",
    "# main\n",
    "grid = [list(x) for x in grid]\n",
    "block_options = 0\n",
    "block_r = 0\n",
    "while block_r < rows:\n",
    "    block_c = 0\n",
    "    while block_c < cols:\n",
    "        if grid[block_r][block_c] == '#':\n",
    "            block_c += 1\n",
    "            continue\n",
    "        grid[block_r][block_c] = 'O'\n",
    "        if check_for_loop():\n",
    "            block_options += 1\n",
    "        grid[block_r][block_c] = '.'\n",
    "        # print(f'block_r, block_c = {[block_r,block_c]}, block options = {block_options}')\n",
    "        block_c += 1\n",
    "    block_r += 1\n",
    "print()\n",
    "print(f'block_r, block_c = {[block_r,block_c]}, block options = {block_options}')\n"
   ]
  }
 ],
 "metadata": {
  "kernelspec": {
   "display_name": ".venv",
   "language": "python",
   "name": "python3"
  },
  "language_info": {
   "codemirror_mode": {
    "name": "ipython",
    "version": 3
   },
   "file_extension": ".py",
   "mimetype": "text/x-python",
   "name": "python",
   "nbconvert_exporter": "python",
   "pygments_lexer": "ipython3",
   "version": "3.10.12"
  }
 },
 "nbformat": 4,
 "nbformat_minor": 2
}
