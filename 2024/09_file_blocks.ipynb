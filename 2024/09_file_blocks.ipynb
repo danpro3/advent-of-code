{
 "cells": [
  {
   "cell_type": "code",
   "execution_count": 77,
   "metadata": {},
   "outputs": [
    {
     "name": "stdout",
     "output_type": "stream",
     "text": [
      "length = 19, filestr[0:20] = 2333133121414131402...2333133121414131402\n"
     ]
    }
   ],
   "source": [
    "filestr = open('inputs/input_09_test.txt','r').read()\n",
    "# filestr = open('inputs/input_09.txt','r').read()\n",
    "num_instr = len(filestr)\n",
    "print(f'length = {num_instr}, filestr[0:20] = {filestr[0:20]}...{filestr[-20:]}')\n",
    "# print(f'length = {num_instr}, filestr = {filestr}')"
   ]
  },
  {
   "cell_type": "code",
   "execution_count": null,
   "metadata": {},
   "outputs": [
    {
     "name": "stdout",
     "output_type": "stream",
     "text": [
      "00...111...2...333.44.5555.6666.777.888899\n"
     ]
    },
    {
     "ename": "UnboundLocalError",
     "evalue": "local variable 'endchar' referenced before assignment",
     "output_type": "error",
     "traceback": [
      "\u001b[0;31m---------------------------------------------------------------------------\u001b[0m",
      "\u001b[0;31mUnboundLocalError\u001b[0m                         Traceback (most recent call last)",
      "Cell \u001b[0;32mIn[83], line 33\u001b[0m\n\u001b[1;32m     30\u001b[0m disk \u001b[38;5;241m=\u001b[39m make_disk_map()\n\u001b[1;32m     31\u001b[0m \u001b[38;5;28mprint\u001b[39m(\u001b[38;5;124m'\u001b[39m\u001b[38;5;124m'\u001b[39m\u001b[38;5;241m.\u001b[39mjoin(disk))\n\u001b[0;32m---> 33\u001b[0m blocks \u001b[38;5;241m=\u001b[39m \u001b[43mdefragment\u001b[49m\u001b[43m(\u001b[49m\u001b[43mdisk\u001b[49m\u001b[43m)\u001b[49m\n\u001b[1;32m     34\u001b[0m \u001b[38;5;28mprint\u001b[39m(\u001b[38;5;124m'\u001b[39m\u001b[38;5;124m'\u001b[39m\u001b[38;5;241m.\u001b[39mjoin(blocks))\n\u001b[1;32m     36\u001b[0m checksum \u001b[38;5;241m=\u001b[39m \u001b[38;5;241m0\u001b[39m\n",
      "Cell \u001b[0;32mIn[83], line 24\u001b[0m, in \u001b[0;36mdefragment\u001b[0;34m(disk)\u001b[0m\n\u001b[1;32m     22\u001b[0m     blocks\u001b[38;5;241m.\u001b[39mappend(startchar)\n\u001b[1;32m     23\u001b[0m \u001b[38;5;28;01melif\u001b[39;00m \u001b[38;5;28mlen\u001b[39m(disk) \u001b[38;5;241m>\u001b[39m \u001b[38;5;241m0\u001b[39m:\n\u001b[0;32m---> 24\u001b[0m     \u001b[38;5;28;01mwhile\u001b[39;00m \u001b[43mendchar\u001b[49m \u001b[38;5;241m==\u001b[39m \u001b[38;5;124m'\u001b[39m\u001b[38;5;124m.\u001b[39m\u001b[38;5;124m'\u001b[39m:\n\u001b[1;32m     25\u001b[0m         endchar \u001b[38;5;241m=\u001b[39m disk\u001b[38;5;241m.\u001b[39mpop(\u001b[38;5;241m-\u001b[39m\u001b[38;5;241m1\u001b[39m)\n\u001b[1;32m     26\u001b[0m     blocks\u001b[38;5;241m.\u001b[39mappend(endchar)\n",
      "\u001b[0;31mUnboundLocalError\u001b[0m: local variable 'endchar' referenced before assignment"
     ]
    }
   ],
   "source": [
    "# part 1\n",
    "def make_disk_map():\n",
    "    disk = []\n",
    "    ID = 0\n",
    "    for i, char in enumerate(filestr):\n",
    "        # print(i, char)\n",
    "        if char == '0':\n",
    "            # print(i,char,'zero')\n",
    "            continue\n",
    "        if i % 2 == 0:   # filesize\n",
    "            disk.append(str(ID)*int(char))\n",
    "            ID += 1\n",
    "        else: # freesize\n",
    "            disk.append('.'*int(char))\n",
    "    return list(''.join(disk))\n",
    "\n",
    "def defragment(disk):\n",
    "    blocks = []\n",
    "    while len(disk) > 0:\n",
    "        startchar = disk.pop(0)\n",
    "        if startchar != '.':\n",
    "            blocks.append(startchar)\n",
    "        elif len(disk) > 0:\n",
    "            endchar = disk.pop(-1)\n",
    "            while endchar == '.':\n",
    "                endchar = disk.pop(-1)\n",
    "            blocks.append(endchar)\n",
    "    return blocks\n",
    "\n",
    "# main\n",
    "disk = make_disk_map()\n",
    "print(''.join(disk))\n",
    "\n",
    "blocks = defragment(disk)\n",
    "print(''.join(blocks))\n",
    "\n",
    "checksum = 0\n",
    "for i,b in enumerate(blocks):\n",
    "    checksum += i*int(b)\n",
    "\n",
    "print(f'checksum = {checksum}')\n",
    "\n",
    "\n",
    "# 90603235088 is too low\n",
    "# 95273577554 is too low (ID++ when free size == 0)\n"
   ]
  },
  {
   "cell_type": "code",
   "execution_count": 17,
   "metadata": {},
   "outputs": [
    {
     "name": "stdout",
     "output_type": "stream",
     "text": [
      "43\n"
     ]
    },
    {
     "ename": "TypeError",
     "evalue": "'str' object does not support item assignment",
     "output_type": "error",
     "traceback": [
      "\u001b[0;31m---------------------------------------------------------------------------\u001b[0m",
      "\u001b[0;31mTypeError\u001b[0m                                 Traceback (most recent call last)",
      "Cell \u001b[0;32mIn[17], line 4\u001b[0m\n\u001b[1;32m      2\u001b[0m b \u001b[38;5;241m=\u001b[39m \u001b[38;5;124m'\u001b[39m\u001b[38;5;124m'\u001b[39m\u001b[38;5;241m.\u001b[39mjoin(a)\n\u001b[1;32m      3\u001b[0m \u001b[38;5;28mprint\u001b[39m(b)\n\u001b[0;32m----> 4\u001b[0m \u001b[43mb\u001b[49m\u001b[43m[\u001b[49m\u001b[38;5;241;43m-\u001b[39;49m\u001b[38;5;241;43m1\u001b[39;49m\u001b[43m]\u001b[49m \u001b[38;5;241m=\u001b[39m []\n\u001b[1;32m      5\u001b[0m \u001b[38;5;28mprint\u001b[39m(b)\n",
      "\u001b[0;31mTypeError\u001b[0m: 'str' object does not support item assignment"
     ]
    }
   ],
   "source": [
    "a = ['4','3']\n",
    "b = ''.join(a)\n",
    "print(b)\n",
    "b[-1] = []\n",
    "print(b)"
   ]
  }
 ],
 "metadata": {
  "kernelspec": {
   "display_name": ".venv",
   "language": "python",
   "name": "python3"
  },
  "language_info": {
   "codemirror_mode": {
    "name": "ipython",
    "version": 3
   },
   "file_extension": ".py",
   "mimetype": "text/x-python",
   "name": "python",
   "nbconvert_exporter": "python",
   "pygments_lexer": "ipython3",
   "version": "3.10.12"
  }
 },
 "nbformat": 4,
 "nbformat_minor": 2
}
