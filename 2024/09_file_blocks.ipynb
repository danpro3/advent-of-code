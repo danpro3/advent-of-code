{
 "cells": [
  {
   "cell_type": "code",
   "execution_count": 179,
   "metadata": {},
   "outputs": [
    {
     "name": "stdout",
     "output_type": "stream",
     "text": [
      "length = 19999, filestr[0:20] = 74877028998053569175...89749355634977870528\n"
     ]
    }
   ],
   "source": [
    "# filestr = open('inputs/input_09_test.txt','r').read()\n",
    "filestr = open('inputs/input_09.txt','r').read()\n",
    "# filestr = filestr[0:100]\n",
    "num_instr = len(filestr)\n",
    "print(f'length = {num_instr}, filestr[0:20] = {filestr[0:20]}...{filestr[-20:]}')\n",
    "# print(f'length = {num_instr}, filestr = {filestr}')"
   ]
  },
  {
   "cell_type": "code",
   "execution_count": 180,
   "metadata": {},
   "outputs": [
    {
     "name": "stdout",
     "output_type": "stream",
     "text": [
      "checksum = 6385338159127\n"
     ]
    }
   ],
   "source": [
    "# part 1\n",
    "def make_disk_map():\n",
    "    disk = []\n",
    "    ID = 0\n",
    "    for i, char in enumerate(filestr):\n",
    "        if i % 2 == 0:   # filesize\n",
    "            [disk.append(ID) for _ in range(int(char))]\n",
    "            ID += 1\n",
    "        else: # freesize\n",
    "            [disk.append('.') for _ in range(int(char))]\n",
    "    return disk\n",
    "\n",
    "def defragment(disk):\n",
    "    blocks = []\n",
    "    while len(disk) > 0:\n",
    "        startchar = disk.pop(0)\n",
    "        if startchar != '.':\n",
    "            blocks.append(startchar)\n",
    "        elif len(disk) > 0:\n",
    "            endchar = disk.pop(-1)\n",
    "            while len(disk) > 0 and endchar == '.':\n",
    "                endchar = disk.pop(-1)\n",
    "            blocks.append(endchar)\n",
    "    if blocks[-1] == '.':\n",
    "        blocks.pop(-1)\n",
    "    return blocks\n",
    "\n",
    "# main\n",
    "disk = make_disk_map()\n",
    "# print(disk)\n",
    "blocks = defragment(disk)\n",
    "# print(blocks)\n",
    "checksum = 0\n",
    "for i,block in enumerate(blocks):\n",
    "    checksum += i*block\n",
    "print(f'checksum = {checksum}')\n"
   ]
  },
  {
   "cell_type": "code",
   "execution_count": 181,
   "metadata": {},
   "outputs": [
    {
     "name": "stdout",
     "output_type": "stream",
     "text": [
      "checksum = 6415163624282\n"
     ]
    }
   ],
   "source": [
    "import re\n",
    "\n",
    "def make_disk_map_pt2():\n",
    "    disk = []\n",
    "    ID = 0\n",
    "    idx = 0\n",
    "    for i, char in enumerate(filestr):\n",
    "        if i % 2 == 0:   # filesize\n",
    "            [disk.append(ID) for _ in range(int(char))]\n",
    "            lengths[ID] = (idx, int(char))\n",
    "            idx += int(char)\n",
    "            ID += 1\n",
    "        else: # freesize\n",
    "            [disk.append('.') for _ in range(int(char))]\n",
    "            idx += int(char)\n",
    "    return disk\n",
    "\n",
    "# def find_dot_groups():\n",
    "    # find all start indicies of '.'\n",
    "    # print(alldots)\n",
    "\n",
    "def defragment_pt2(disk):\n",
    "    allIDS = sorted(list(lengths.keys()), reverse=True)\n",
    "    \n",
    "    for ID in allIDS:\n",
    "        alldots = [index for index, value in enumerate(disk) if value == '.']\n",
    "        dot_idx = 0\n",
    "        inserted_flag = False\n",
    "        while not inserted_flag and dot_idx < len(alldots) and alldots[dot_idx] < lengths[ID][0]: # last one: only can move the group to the left\n",
    "            # see the file fits in each dot location:\n",
    "            # find the available dots starting at k\n",
    "            extra = 0\n",
    "            while dot_idx < len(alldots) and alldots[dot_idx] + extra < len(disk) and disk[alldots[dot_idx] + extra] == '.':\n",
    "                extra += 1\n",
    "            if lengths[ID][1] <= extra:\n",
    "                disk[alldots[dot_idx] : alldots[dot_idx] + lengths[ID][1]] = [ID for _ in range(lengths[ID][1])]\n",
    "                disk[lengths[ID][0] : lengths[ID][0] + lengths[ID][1]] = ['.' for _ in range(lengths[ID][1])]\n",
    "                [alldots.pop(dot_idx) for _ in range(lengths[ID][1])]\n",
    "                inserted_flag = True\n",
    "            dot_idx += 1\n",
    "    return 1\n",
    "\n",
    "# main\n",
    "lengths = dict()\n",
    "# dots = dict()\n",
    "disk = make_disk_map_pt2()\n",
    "# print(disk)\n",
    "# print(lengths)\n",
    "# find_dot_groups()\n",
    "blocks = defragment_pt2(disk)\n",
    "# print(blocks)\n",
    "blocks = disk\n",
    "checksum = 0\n",
    "for i,block in enumerate(blocks):\n",
    "    if block != '.':\n",
    "        checksum += i*int(block)\n",
    "print(f'checksum = {checksum}')"
   ]
  }
 ],
 "metadata": {
  "kernelspec": {
   "display_name": ".venv",
   "language": "python",
   "name": "python3"
  },
  "language_info": {
   "codemirror_mode": {
    "name": "ipython",
    "version": 3
   },
   "file_extension": ".py",
   "mimetype": "text/x-python",
   "name": "python",
   "nbconvert_exporter": "python",
   "pygments_lexer": "ipython3",
   "version": "3.10.12"
  }
 },
 "nbformat": 4,
 "nbformat_minor": 2
}
